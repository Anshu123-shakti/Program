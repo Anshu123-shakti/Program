{
  "nbformat": 4,
  "nbformat_minor": 0,
  "metadata": {
    "colab": {
      "provenance": []
    },
    "kernelspec": {
      "name": "python3",
      "display_name": "Python 3"
    },
    "language_info": {
      "name": "python"
    }
  },
  "cells": [
    {
      "cell_type": "markdown",
      "source": [
        " Calculate the total of monthly bills.\n",
        " Given a list of bills like [1500, 2000, 3000], iterate through the list.\n",
        " Print each bill amount and the total at the end"
      ],
      "metadata": {
        "id": "O0orglVtOn8h"
      }
    },
    {
      "cell_type": "code",
      "execution_count": null,
      "metadata": {
        "colab": {
          "base_uri": "https://localhost:8080/"
        },
        "id": "cbDTSsTwOiIp",
        "outputId": "6293fe09-1b09-4221-99ec-e899f218f559"
      },
      "outputs": [
        {
          "output_type": "stream",
          "name": "stdout",
          "text": [
            "1500\n",
            "2000\n",
            "3000\n",
            "6500\n"
          ]
        }
      ],
      "source": [
        "bill = [1500 , 2000 , 3000]\n",
        "for i in bill :\n",
        "  print(i)\n",
        "h = sum(bill)\n",
        "print(h)\n"
      ]
    },
    {
      "cell_type": "markdown",
      "source": [
        "Simulate attendance tracking.\n",
        " Given a list of student names like [\"John\", \"Mary\", \"Alex\"], print each name followed by\n",
        "\"Present."
      ],
      "metadata": {
        "id": "CPnxjIrvUuP7"
      }
    },
    {
      "cell_type": "code",
      "source": [
        "n = [\"john\" , \"mary\" , \"alex\"]\n",
        "for i in n :\n",
        "  print(i)\n",
        "  print(\"present\")\n"
      ],
      "metadata": {
        "colab": {
          "base_uri": "https://localhost:8080/"
        },
        "id": "OMDbNskzUvWy",
        "outputId": "0f8c877e-4a02-4cf0-8871-e85ad7c947ad"
      },
      "execution_count": null,
      "outputs": [
        {
          "output_type": "stream",
          "name": "stdout",
          "text": [
            "john\n",
            "present\n",
            "mary\n",
            "present\n",
            "alex\n",
            "present\n"
          ]
        }
      ]
    },
    {
      "cell_type": "markdown",
      "source": [
        "Distribute bonuses to employees.\n",
        " Given a dictionary {\"John\": 5000, \"Mary\": 6000}, iterate through the dictionary.\n",
        " Print each employee's name and their bonus"
      ],
      "metadata": {
        "id": "ad1Q6oJgaKVD"
      }
    },
    {
      "cell_type": "code",
      "source": [
        "dic = {\"john\" : 5000, \"mary\" : 6000}\n",
        "for key in dic :\n",
        "  print(key , \":\", dic[key])"
      ],
      "metadata": {
        "colab": {
          "base_uri": "https://localhost:8080/"
        },
        "id": "lIoTey4FaPD8",
        "outputId": "5c55b15b-45a6-4477-d252-1ee5633668da"
      },
      "execution_count": null,
      "outputs": [
        {
          "output_type": "stream",
          "name": "stdout",
          "text": [
            "john : 5000\n",
            "mary : 6000\n"
          ]
        }
      ]
    },
    {
      "cell_type": "markdown",
      "source": [
        "Calculate grades for students.\n",
        " Given a list of scores [85, 92, 76, 61], assign grades:\n",
        " >= 90: A\n",
        " >= 80: B\n",
        " >= 70: C\n",
        " < 70: F\n",
        " Print the grades for each student"
      ],
      "metadata": {
        "id": "JOpjc9psbNyD"
      }
    },
    {
      "cell_type": "code",
      "source": [
        "score = [85 , 92 , 76 , 61]\n",
        "for i in score :\n",
        "  if i >= 90 :\n",
        "    print(\"grade is A \")\n",
        "  elif i >= 80 :\n",
        "    print(\"grade is B\")\n",
        "  elif i >= 70 :\n",
        "    print(\"grade is C \")\n",
        "  else :\n",
        "    print(\"grade is F\")\n"
      ],
      "metadata": {
        "colab": {
          "base_uri": "https://localhost:8080/"
        },
        "id": "UNqDBAcjbOr7",
        "outputId": "110529a4-3787-466f-e171-6ab9a308673a"
      },
      "execution_count": null,
      "outputs": [
        {
          "output_type": "stream",
          "name": "stdout",
          "text": [
            "grade is B\n",
            "grade is A \n",
            "grade is C \n",
            "grade is F\n"
          ]
        }
      ]
    },
    {
      "cell_type": "markdown",
      "source": [
        "Check if a book is in a library.\n",
        " Given a list of books like [\"Python Basics\", \"Data Science\"], ask the user for a title.\n",
        " Print \"Available\" if the title is in the list, or \"Not Available\" otherwise"
      ],
      "metadata": {
        "id": "e7LylDdYcnHl"
      }
    },
    {
      "cell_type": "code",
      "source": [
        "b = [\"paython Basics\" , \" Data science\"]\n",
        "t = input(\"enter book name: \")\n",
        "for i in b :\n",
        "  if t == i :\n",
        "    print(\"available\")\n",
        "    break\n",
        "else :\n",
        "  print(\"ua\")\n",
        "\n"
      ],
      "metadata": {
        "colab": {
          "base_uri": "https://localhost:8080/"
        },
        "id": "SB230I3xcoV9",
        "outputId": "78a3b4c7-b69f-4e85-88ba-60a7babdf217"
      },
      "execution_count": null,
      "outputs": [
        {
          "output_type": "stream",
          "name": "stdout",
          "text": [
            "enter book name:  Data science\n",
            "available\n"
          ]
        }
      ]
    },
    {
      "cell_type": "markdown",
      "source": [
        " Analyze daily temperatures for a week.\n",
        " Given a list [30, 32, 28, 35, 29], find the highest and lowest temperatures using a loop"
      ],
      "metadata": {
        "id": "ecfp2AjneCKg"
      }
    },
    {
      "cell_type": "code",
      "source": [
        "t = [30, 32, 28, 35, 29]\n",
        "k = 0\n",
        "for i in range(len(t)- 1) :\n",
        "  if t[i] < t[i+1] :\n",
        "    k = t[i]\n",
        "\n",
        "\n",
        "\n",
        "\n",
        "print(k , \"is smallest\")\n",
        "n = len(t)\n",
        "b = len(t) - 1\n",
        "print(n , b)"
      ],
      "metadata": {
        "colab": {
          "base_uri": "https://localhost:8080/"
        },
        "id": "g0PFl7-HeF40",
        "outputId": "799ee967-4b7f-4d4c-ffa8-ce167d9dfe19"
      },
      "execution_count": null,
      "outputs": [
        {
          "output_type": "stream",
          "name": "stdout",
          "text": [
            "28 is smallest\n",
            "5 4\n"
          ]
        }
      ]
    },
    {
      "cell_type": "code",
      "source": [
        "d = 0\n",
        "for e in range(len(t) - 1) :\n",
        "  if t[e] > t[e + 1] :\n",
        "    d = t[e]\n",
        "print(d , \"is largest\")\n"
      ],
      "metadata": {
        "colab": {
          "base_uri": "https://localhost:8080/"
        },
        "id": "cpF20-hUihaJ",
        "outputId": "aa3b5995-0042-48eb-d090-d52498ba7f66"
      },
      "execution_count": null,
      "outputs": [
        {
          "output_type": "stream",
          "name": "stdout",
          "text": [
            "35 is largest\n"
          ]
        }
      ]
    },
    {
      "cell_type": "markdown",
      "source": [
        "Check for low-stock items in a store.\n",
        " Given a dictionary {\"Apples\": 5, \"Bananas\": 20}, print items with quantities below 10"
      ],
      "metadata": {
        "id": "CnRiI8T8jf8m"
      }
    },
    {
      "cell_type": "code",
      "source": [
        "d = {\"Apples\": 5, \"Bananas\": 20}\n",
        "k = min(d , key = d.get)\n",
        "print(\"minimum quantity\" , k)\n"
      ],
      "metadata": {
        "colab": {
          "base_uri": "https://localhost:8080/"
        },
        "id": "p9OlH6kXjg7F",
        "outputId": "dd870fe4-4938-4b0a-b1f8-02508cf363ba"
      },
      "execution_count": null,
      "outputs": [
        {
          "output_type": "stream",
          "name": "stdout",
          "text": [
            "minimum quantity Apples\n"
          ]
        }
      ]
    },
    {
      "cell_type": "markdown",
      "source": [
        " Check booked and available seats.\n",
        " Given a list of seats [1, 2, 3, 4] and booked seats [2, 4], print \"Booked\" or \"Available\" for each\n",
        "seat"
      ],
      "metadata": {
        "id": "CN-GXou9mdFB"
      }
    },
    {
      "cell_type": "code",
      "source": [
        "s =  [1, 2, 3, 4]\n",
        "b =  [2, 4]\n",
        "for i in s :\n",
        "  if i not in b :\n",
        "    print(\"available\")\n",
        "  else :\n",
        "    print(\"booked\")"
      ],
      "metadata": {
        "colab": {
          "base_uri": "https://localhost:8080/"
        },
        "id": "IvfsHw3rmi3I",
        "outputId": "f29673da-ef8f-4236-abf2-0c622659c2a7"
      },
      "execution_count": null,
      "outputs": [
        {
          "output_type": "stream",
          "name": "stdout",
          "text": [
            "available\n",
            "booked\n",
            "available\n",
            "booked\n"
          ]
        }
      ]
    },
    {
      "cell_type": "markdown",
      "source": [
        "Calculate weekly interest for a savings account.\n",
        " Given a list of daily balances [5000, 5200, 5300], calculate daily interest at 0.05% and display\n",
        "the total interest"
      ],
      "metadata": {
        "id": "63ZTVxmJn96E"
      }
    },
    {
      "cell_type": "code",
      "source": [
        "b = [5000, 5200, 5300]\n",
        "a = 0.05\n",
        "f = 0\n",
        "for i in b :\n",
        "  f = f + i*a\n",
        "  q = i + f\n",
        "  print(\"today balance\" , q)\n",
        "print(\"total interest\" , f)"
      ],
      "metadata": {
        "colab": {
          "base_uri": "https://localhost:8080/"
        },
        "id": "axYr0CBroD8y",
        "outputId": "dedec04d-e822-43b3-c581-186158b20479"
      },
      "execution_count": null,
      "outputs": [
        {
          "output_type": "stream",
          "name": "stdout",
          "text": [
            "today balance 5250.0\n",
            "today balance 5710.0\n",
            "today balance 6075.0\n",
            "total interest 775.0\n"
          ]
        }
      ]
    },
    {
      "cell_type": "markdown",
      "source": [
        " Analyze feedback for keywords.\n",
        " Given a list of comments like [\"Great service\", \"Poor product\"], print comments containing the\n",
        "word \"service."
      ],
      "metadata": {
        "id": "DJk_0ITQphcb"
      }
    },
    {
      "cell_type": "code",
      "source": [
        "c = [\"Great service\", \"Poor product\"]\n",
        "f = \"service\"\n",
        "for i in c :\n",
        "  if f in i :\n",
        "    print(i)\n",
        "\n",
        "\n",
        "\n",
        "\n",
        "\n",
        "\n",
        "\n",
        "\n",
        "\n",
        "\n"
      ],
      "metadata": {
        "colab": {
          "base_uri": "https://localhost:8080/"
        },
        "id": "W_NH2S4dpnpO",
        "outputId": "301dcb50-7fcb-4bdc-e546-58410f5a99fe"
      },
      "execution_count": null,
      "outputs": [
        {
          "output_type": "stream",
          "name": "stdout",
          "text": [
            "Great service\n"
          ]
        }
      ]
    }
  ]
}