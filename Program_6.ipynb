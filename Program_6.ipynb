{
  "nbformat": 4,
  "nbformat_minor": 0,
  "metadata": {
    "colab": {
      "provenance": []
    },
    "kernelspec": {
      "name": "python3",
      "display_name": "Python 3"
    },
    "language_info": {
      "name": "python"
    }
  },
  "cells": [
    {
      "cell_type": "code",
      "execution_count": null,
      "metadata": {
        "id": "mSm--1kn9PZV",
        "colab": {
          "base_uri": "https://localhost:8080/"
        },
        "outputId": "86f2075c-3e99-4639-f75e-99990b5172bc"
      },
      "outputs": [
        {
          "output_type": "stream",
          "name": "stdout",
          "text": [
            "enter age: 2\n",
            "enter age: 77\n",
            "enter age: 999\n",
            "[2, 77, 999]\n",
            "Elder age is:  999\n"
          ]
        }
      ],
      "source": [
        "#q-1 - User will input (3ages).Find the oldest one\n",
        "n = 3\n",
        "sage = list()\n",
        "\n",
        "for i in range(n) :\n",
        "  age = int(input(\"enter age: \"))\n",
        "  sage.append(age)\n",
        "  oldest = max(sage)\n",
        "  i += 1\n",
        "print(sage)\n",
        "print(\"Elder age is: \", oldest)\n"
      ]
    },
    {
      "cell_type": "code",
      "source": [
        "#q-2 - Write a program that will convert celsius value to fahrenheit\n",
        "# - formula = f = (Temperature in degrees Celsius (°C) * 9/5) + 32\n",
        "\n",
        "temp = int(input(\"enter temp in celcius: \"))\n",
        "f = (temp* 9/5) + 32\n",
        "print(\"temp in farenhite: \", f)\n",
        "\n"
      ],
      "metadata": {
        "colab": {
          "base_uri": "https://localhost:8080/"
        },
        "id": "gzEGNPKOmo54",
        "outputId": "266fc850-29e3-4428-84bd-e2558c2721c2"
      },
      "execution_count": null,
      "outputs": [
        {
          "output_type": "stream",
          "name": "stdout",
          "text": [
            "enter temp in celcius: 30\n",
            "temp in farenhite:  86.0\n"
          ]
        }
      ]
    },
    {
      "cell_type": "code",
      "source": [
        "#User will input (2numbers).Write a program to swap the numbers\n",
        "n1 = int(input(\"enter 1st no.: \"))\n",
        "n2 = int(input(\"enter 2nd no.: \"))\n",
        "(n1,n2) = (n2,n1)\n",
        "\n",
        "print(n1 , n2)"
      ],
      "metadata": {
        "colab": {
          "base_uri": "https://localhost:8080/"
        },
        "id": "TFLyT5Hxo9-H",
        "outputId": "383d785f-c8de-4d31-f8b5-daccab60f3ff"
      },
      "execution_count": null,
      "outputs": [
        {
          "output_type": "stream",
          "name": "stdout",
          "text": [
            "enter 1st no.: 3\n",
            "enter 2nd no.: 6\n",
            "6 3\n"
          ]
        }
      ]
    },
    {
      "cell_type": "code",
      "source": [
        "# Write a program that will give you the sum of 3 digits\n",
        "a = int(input())\n",
        "b = int(input())\n",
        "c = int(input())\n",
        "sum = a + b + c\n",
        "print(sum)"
      ],
      "metadata": {
        "colab": {
          "base_uri": "https://localhost:8080/"
        },
        "id": "ut_Kt0LJxUds",
        "outputId": "98fa5a9b-5e4a-4f7e-a75d-ba787d0c7076"
      },
      "execution_count": null,
      "outputs": [
        {
          "output_type": "stream",
          "name": "stdout",
          "text": [
            "2\n",
            "4\n",
            "6\n",
            "12\n"
          ]
        }
      ]
    },
    {
      "cell_type": "code",
      "source": [
        "#Write a program that will reverse a four digit number.Also it checks whether the reverse is true.\n",
        "num = int(input(\"enter four digit no.: \"))\n",
        "newnum = str(num)\n",
        "print(type(newnum))\n",
        "print(newnum)\n",
        "rev = newnum[::-1]\n",
        "rev = int(rev)\n",
        "print(rev)\n",
        "print(id(num))\n",
        "print(id(rev))\n",
        "if num == rev :\n",
        "\n",
        "  print(\"number is not reversed\", rev)\n",
        "else :\n",
        "  print(\"number is reversed\", rev)\n",
        "\n"
      ],
      "metadata": {
        "colab": {
          "base_uri": "https://localhost:8080/"
        },
        "id": "pVdrMBizxtjk",
        "outputId": "5820e58c-e45a-4606-a851-ae3a6d3bcbf8"
      },
      "execution_count": null,
      "outputs": [
        {
          "output_type": "stream",
          "name": "stdout",
          "text": [
            "enter four digit no.: 4567\n",
            "<class 'str'>\n",
            "4567\n",
            "7654\n",
            "137685309094288\n",
            "137685302880080\n",
            "number is reversed 7654\n"
          ]
        }
      ]
    },
    {
      "cell_type": "code",
      "source": [
        "#Write a program that will tell whether the number entered by the user is odd or even.\n",
        "num = int(input(\"enter any number: \"))\n",
        "if num % 2 == 0 :\n",
        "  print(\"number is even\", num)\n",
        "else :\n",
        "  print(\"number is odd\", num)\n"
      ],
      "metadata": {
        "colab": {
          "base_uri": "https://localhost:8080/"
        },
        "id": "VPnyEnfe-Bnt",
        "outputId": "df0ffc4f-19a6-4582-b0fc-aca030a81d76"
      },
      "execution_count": null,
      "outputs": [
        {
          "output_type": "stream",
          "name": "stdout",
          "text": [
            "enter any number: 4\n",
            "number is even 4\n"
          ]
        }
      ]
    },
    {
      "cell_type": "code",
      "source": [
        "#Write a program that will tell whether the given year is a leap year or not.\n",
        "year = int(input(\"enter a year: \"))\n",
        "if year % 4 == 0 :\n",
        "  print(\"year is a leap year\", year)\n",
        "\n",
        "else :\n",
        "  print(\"year is not leap year\", year)"
      ],
      "metadata": {
        "colab": {
          "base_uri": "https://localhost:8080/"
        },
        "id": "ZUhbH47dD3De",
        "outputId": "f281457a-1170-4d9d-870f-fca00024e721"
      },
      "execution_count": null,
      "outputs": [
        {
          "output_type": "stream",
          "name": "stdout",
          "text": [
            "enter a year: 2021\n",
            "year is not leap year 2021\n"
          ]
        }
      ]
    },
    {
      "cell_type": "code",
      "source": [
        "#Write a program to find the euclidean distance between two coordinates.\n",
        "cor1 = tuple()\n",
        "cor2 = tuple()\n",
        "n = 2\n",
        "for i in range(0,n):\n",
        "  num = int(input(\"enter number for cor1: \"))\n",
        "  cor1 = cor1 + (num,)\n",
        "  i += 1\n",
        "print(\"1st cordinates\",cor1)\n",
        "for e in range(0,n):\n",
        "  no = int(input(\"enter nuber for cor2: \"))\n",
        "  cor2 = cor2 + (no,)\n",
        "  i += 1\n",
        "print(\"2nd cordinates\", cor2)\n",
        "\n",
        "from scipy.spatial import distance\n",
        "\n",
        "\n",
        "\n",
        "distance = distance.euclidean(cor1, cor2)\n",
        "print(distance) # Output: 5.0"
      ],
      "metadata": {
        "id": "IX8A2lMBFXq-",
        "colab": {
          "base_uri": "https://localhost:8080/"
        },
        "outputId": "c45e3333-29dc-45ff-c67a-5852ead8d9c8"
      },
      "execution_count": null,
      "outputs": [
        {
          "output_type": "stream",
          "name": "stdout",
          "text": [
            "enter number for cor1: 5\n",
            "enter number for cor1: 8\n",
            "1st cordinates (5, 8)\n",
            "enter nuber for cor2: 9\n",
            "enter nuber for cor2: 18\n",
            "2nd cordinates (9, 18)\n",
            "10.770329614269007\n"
          ]
        }
      ]
    },
    {
      "cell_type": "code",
      "source": [
        "#Write a program that take a user inputr of three angles and will find out whether it can form a triangle or not.\n",
        "n = 3\n",
        "angle = list()\n",
        "for i in range(0,n):\n",
        "  agl = int(input(\"enter angle for triangle: \"))\n",
        "  angle.append(agl)\n",
        "\n",
        "  i += 1\n",
        "print(\"three angles\", angle)\n",
        "check = sum(angle)\n",
        "print(\"sum of angles is\", check)\n",
        "\n",
        "if (check == 180) :\n",
        "  print(\"triangle can be formed\")\n",
        "else :\n",
        "  print(\"triangle cannot be formed\")"
      ],
      "metadata": {
        "colab": {
          "base_uri": "https://localhost:8080/"
        },
        "id": "EdsBVj_eXibv",
        "outputId": "29d12165-970d-4550-99dc-05df3aa58445"
      },
      "execution_count": null,
      "outputs": [
        {
          "output_type": "stream",
          "name": "stdout",
          "text": [
            "enter angle for triangle: 80\n",
            "enter angle for triangle: 50\n",
            "enter angle for triangle: 50\n",
            "three angles [80, 50, 50]\n",
            "sum of angles is 180\n",
            "triangle can be formed\n"
          ]
        }
      ]
    },
    {
      "cell_type": "code",
      "source": [
        "\n",
        "#Write a program that will take user input of cost price and selling price and determines whether its a loss or a profit\n",
        "revenue = sp - cp\n",
        "def pl(cp , sp) :\n",
        "\n",
        "\n",
        "  if revenue > 0 :\n",
        "    print(\"it is a profit\")\n",
        "  else :\n",
        "    print(\"it is a loss\")\n",
        "  return revenue\n",
        "\n",
        "\n",
        "sp = int(input(\"enter selling price: \"))\n",
        "cp = int(input(\"enter cost price: \"))\n",
        "if sp < cp :\n",
        "  print( \"SP should be grater than cp\")\n",
        "elif sp == cp :\n",
        "  print(\"no profit no loss\")\n",
        "\n",
        "pl(cp , sp)\n",
        "\n",
        "\n",
        "\n",
        "\n",
        "\n",
        "\n",
        "\n",
        "\n"
      ],
      "metadata": {
        "colab": {
          "base_uri": "https://localhost:8080/"
        },
        "id": "BZe1TGQJdtrV",
        "outputId": "24ec79f1-e3d0-4717-bacc-6170e1bee309"
      },
      "execution_count": null,
      "outputs": [
        {
          "output_type": "stream",
          "name": "stdout",
          "text": [
            "enter selling price: 50\n",
            "enter cost price: 40\n",
            "it is a profit\n"
          ]
        },
        {
          "output_type": "execute_result",
          "data": {
            "text/plain": [
              "10"
            ]
          },
          "metadata": {},
          "execution_count": 3
        }
      ]
    },
    {
      "cell_type": "code",
      "source": [
        "#Write a program to find the simple interest when the value of principle,rate of interest and time period is given.\n",
        "\n",
        "def si(principal , rate , time ) :\n",
        "  interest = (principal * rate * time)/100\n",
        "  return interest\n",
        "\n",
        "\n",
        "p = int(input())\n",
        "r = int(input())\n",
        "t = int(input())\n",
        "\n",
        "\n",
        "si(p , r, t)\n"
      ],
      "metadata": {
        "colab": {
          "base_uri": "https://localhost:8080/"
        },
        "id": "b9fdtYDSDYg8",
        "outputId": "544e5024-fbc4-4b02-f589-0878bcca63db"
      },
      "execution_count": null,
      "outputs": [
        {
          "name": "stdout",
          "output_type": "stream",
          "text": [
            "5000\n",
            "5\n",
            "3\n"
          ]
        },
        {
          "output_type": "execute_result",
          "data": {
            "text/plain": [
              "750.0"
            ]
          },
          "metadata": {},
          "execution_count": 19
        }
      ]
    },
    {
      "cell_type": "code",
      "source": [
        "#Write a program to find the volume of the cylinder. Also find the cost when ,when the cost of 1litre milk is 40Rs.\n",
        "import math\n",
        "def vol(r,h) :\n",
        "  volume = math.pi*r**2*h\n",
        "  return volume\n",
        "\n",
        "\n",
        "final = vol(5 , 17)\n",
        "print(final)\n",
        "\n",
        "\n",
        "cost = 40\n",
        "total = cost*vol(5,17)\n",
        "print(total)\n",
        "\n",
        "\n"
      ],
      "metadata": {
        "colab": {
          "base_uri": "https://localhost:8080/"
        },
        "id": "pELwGwVqGEm0",
        "outputId": "47efdbaf-8dfc-4fe0-94b2-32c559fcd8dd"
      },
      "execution_count": null,
      "outputs": [
        {
          "output_type": "stream",
          "name": "stdout",
          "text": [
            "1335.1768777756622\n",
            "53407.07511102649\n"
          ]
        }
      ]
    },
    {
      "cell_type": "code",
      "source": [
        "#Write  a program that will tell whether the given number is divisible by 3 & 6.\n",
        "def div(num) :\n",
        "  if (num % 3 == 0) and (num % 6 == 0) :\n",
        "    print(\"number is divisible by 3 and 6\")\n",
        "  else :\n",
        "    print(\"number is not divisible by 3 & 6\")\n",
        "\n",
        "num = int(input(\"enter number to check disibility: \"))\n",
        "div(num)"
      ],
      "metadata": {
        "colab": {
          "base_uri": "https://localhost:8080/"
        },
        "id": "0HoZDc1RZcwh",
        "outputId": "d9751501-c31b-4ccd-f1b0-4fa6a9d2647c"
      },
      "execution_count": null,
      "outputs": [
        {
          "output_type": "stream",
          "name": "stdout",
          "text": [
            "enter number to check disibility: 11\n",
            "number is not divisible by 3 & 6\n"
          ]
        }
      ]
    },
    {
      "cell_type": "code",
      "source": [
        "#Write a program that will determine weather when the value of temperature and humidity is provided by the user.\n",
        "#TEMPERATURE(C)      HUMIDITY(%)      WEATHER\n",
        "\n",
        "\n",
        "     # >= 30                             >=90                Hot and Humid\n",
        "\n",
        "      #>= 30                             < 90                 Hot\n",
        "\n",
        "      #<30                                >= 90               Cool and Humid\n",
        "\n",
        "      #<30                                 <90                 Cool\n",
        "\n",
        "\n",
        "def weather(temp , humi) :\n",
        "  if (temp >= 30) and (humi >= 90) :\n",
        "    print(\"weather is hot and humid\")\n",
        "  elif (temp >= 30) and (humi < 90) :\n",
        "    print(\"weather is hot\")\n",
        "  elif (temp < 30) and (humi >= 90) :\n",
        "    print(\"weather is cool and humid\")\n",
        "  elif (temp < 30) and (humi < 90) :\n",
        "    print(\"weather is cool\")\n",
        "  else :\n",
        "    print(\"enter valid number\")\n",
        "\n",
        "temp = int(input(\"enter temprature in celcius: \"))\n",
        "humi = int(input(\"enter humidity: \"))\n",
        "\n",
        "weather(temp , humi)"
      ],
      "metadata": {
        "colab": {
          "base_uri": "https://localhost:8080/"
        },
        "id": "Dw6COIJifEka",
        "outputId": "e32fedb7-43c3-4601-86dc-88c7484a278d"
      },
      "execution_count": null,
      "outputs": [
        {
          "output_type": "stream",
          "name": "stdout",
          "text": [
            "enter temprature in celcius: 400\n",
            "enter humidity: 600\n",
            "weather is hot and humid\n"
          ]
        }
      ]
    },
    {
      "cell_type": "code",
      "source": [
        "#Write a program that will take three digits from the user and add the square of each digit.\n",
        "def sqr(n1 , n2 , n3) :\n",
        "  sum = n1**2 + n2**2 + n3**2\n",
        "  return sum\n",
        "\n",
        "n1 = int(input(\"enter first num: \"))\n",
        "n2 = int(input(\"enter 2nd num: \"))\n",
        "n3 = int(input(\"enter 3rd num: \"))\n",
        "\n",
        "print(\"sum of sqr\", sqr(n1,n2,n3))"
      ],
      "metadata": {
        "colab": {
          "base_uri": "https://localhost:8080/"
        },
        "id": "AzLsE5qbkFvi",
        "outputId": "e8b34bfe-0b5d-4e7e-d808-54b7b229b5b3"
      },
      "execution_count": null,
      "outputs": [
        {
          "output_type": "stream",
          "name": "stdout",
          "text": [
            "enter first num: 2\n",
            "enter 2nd num: 2\n",
            "enter 3rd num: 2\n",
            "sum of sqr 12\n"
          ]
        }
      ]
    },
    {
      "cell_type": "code",
      "source": [
        "#Write a program that will check whether the number is armstrong number or not.\n",
        "num = int(input())\n",
        "dig = str(num)\n",
        "count = len(dig)\n",
        "print(type(count))\n",
        "sum = 0\n",
        "for i in dig :\n",
        "  sum = sum + int(i)**count\n",
        "print(sum)\n",
        "\n",
        "if sum == num :\n",
        "  print(\"number is armstrong number\")\n",
        "else :\n",
        "  print(\"number is not armstrong number\")\n",
        "\n",
        "\n"
      ],
      "metadata": {
        "id": "Sc6oMfldpI-5",
        "colab": {
          "base_uri": "https://localhost:8080/"
        },
        "outputId": "8b69c905-6fa3-4fd3-e25e-30650390c75e"
      },
      "execution_count": null,
      "outputs": [
        {
          "output_type": "stream",
          "name": "stdout",
          "text": [
            "153\n",
            "<class 'int'>\n",
            "153\n",
            "number is armstrong number\n"
          ]
        }
      ]
    },
    {
      "cell_type": "code",
      "source": [
        "#Write a program that will give you the in hand salary after deduction of HRA(10%),DA(5%),PF(3%), and tax(if salary is between 5-10 lakh–10%),(11-20lakh–20%),(20< _   – 30%)(0-1lakh print k).\n",
        "Annual = int(input(\"enter annual salary: \"))\n",
        "month = Annual / 12\n",
        "print(\"Monthly salary is\", round(month))\n",
        "HRA = round((month * 10)/100)\n",
        "pf = round((month*3)/100)\n",
        "da = round((month*5)/100)\n",
        "print(HRA,pf,da)\n",
        "ti= round(month - (HRA + pf + da))\n",
        "print(\"taxable income\", ti)\n",
        "\n",
        "if Annual in range(500000 , 1100000) :\n",
        "  fi = (ti*10)/100\n",
        "  ih = ti - fi\n",
        "  print(\"tax on salary\", fi)\n",
        "  print(\"inhand salary\", ih)\n",
        "elif Annual in range(1100000 , 2100000) :\n",
        "  fi = (ti*20)/100\n",
        "  ih = ti - fi\n",
        "  print(\"tax on salary\", fi)\n",
        "  print(\"inhand salary\", ih)\n",
        "elif Annual > 2000000 :\n",
        "  fi = (ti*30)/100\n",
        "  ih = ti - fi\n",
        "  print(\"tax on salary\", fi)\n",
        "  print(\"inhand salary\", ih)\n",
        "elif Annual < 500000 :\n",
        "  ih = month\n",
        "  print(\"inhand salary\", ih)\n",
        "\n",
        "\n"
      ],
      "metadata": {
        "colab": {
          "base_uri": "https://localhost:8080/"
        },
        "id": "kbbL_1hJy8et",
        "outputId": "90aec533-cd5f-45b5-968c-a463c5a4c177"
      },
      "execution_count": null,
      "outputs": [
        {
          "output_type": "stream",
          "name": "stdout",
          "text": [
            "enter annual salary: 200000\n",
            "Monthly salary is 16667\n",
            "1667 500 833\n",
            "taxable income 13667\n",
            "inhand salary 16666.666666666668\n"
          ]
        }
      ]
    },
    {
      "cell_type": "code",
      "source": [
        "#Write a menu driven program - 1.cm to ft  2.kl to miles  3.usd to inr  4.exit\n",
        "\n",
        "num = 0\n",
        "while True :\n",
        "  print(\"1. Enter number from  1 to 4 to run\")\n",
        "  print(\"2. Change centimeter to feet\")\n",
        "  print(\"3. change km to miles\")\n",
        "  print(\"4. Change USD to INR\")\n",
        "  print(\"5. ENTER 5 TO EXIT\")\n",
        "  num = int(input(\"Enter number from 1 to 5 to run: \"))\n",
        "  if num == 2 :\n",
        "    cm = int(input(\"enter number to conver in feet: \"))\n",
        "    ft = round(cm*0.033)\n",
        "    print(\"value converted in feet\", ft)\n",
        "  elif num == 3 :\n",
        "    km = int(input(\"enter number to convert in to miles: \"))\n",
        "    mile = round(km*0.62)\n",
        "    print(\"value in miles\", mile)\n",
        "  elif num == 4 :\n",
        "    usd = int(input(\"enter number to convert into INR: \"))\n",
        "    inr = round(usd*86.36)\n",
        "    print(\"Value in INR\", inr)\n",
        "  else :\n",
        "    num == 5\n",
        "    break\n",
        "    print(\"Thank you for using\")\n",
        "\n",
        "\n",
        "\n"
      ],
      "metadata": {
        "id": "jpwTY3T-Orn-",
        "colab": {
          "base_uri": "https://localhost:8080/"
        },
        "outputId": "83efdf67-71a3-41bf-f6e2-17774e8310f1"
      },
      "execution_count": null,
      "outputs": [
        {
          "name": "stdout",
          "output_type": "stream",
          "text": [
            "1. Enter number from  1 to 4 to run\n",
            "2. Change centimeter to feet\n",
            "3. change km to miles\n",
            "4. Change USD to INR\n",
            "5. ENTER 5 TO EXIT\n",
            "Enter number from 1 to 5 to run: 3\n",
            "enter number to convert in to miles: 666\n",
            "value in miles 413\n",
            "1. Enter number from  1 to 4 to run\n",
            "2. Change centimeter to feet\n",
            "3. change km to miles\n",
            "4. Change USD to INR\n",
            "5. ENTER 5 TO EXIT\n",
            "Enter number from 1 to 5 to run: 5\n"
          ]
        }
      ]
    },
    {
      "cell_type": "code",
      "source": [
        "#Write a program that will tell the number of dogs and chicken are there when the user will provide the value of total heads and legs.\n",
        "dleg = int(input(\"enter number of leg for dog: \"))\n",
        "cleg = int(input(\"enter number of leg for chicken \"))\n",
        "dhead = dleg // 4\n",
        "print(\"total dog head\", dhead)\n",
        "chead = cleg // 2\n",
        "print(\"total chicken head\", chead)\n"
      ],
      "metadata": {
        "id": "2DtyUzjyMOb0",
        "colab": {
          "base_uri": "https://localhost:8080/"
        },
        "outputId": "0d0b718d-4c25-41da-9301-03da966ce917"
      },
      "execution_count": null,
      "outputs": [
        {
          "output_type": "stream",
          "name": "stdout",
          "text": [
            "enter number of leg for dog: 1000\n",
            "enter number of leg for chicken 20000\n",
            "total dog head 250\n",
            "total chicken head 10000\n"
          ]
        }
      ]
    },
    {
      "cell_type": "code",
      "source": [
        "#Write a program to find the sum of first n numbers, where n will be provided by the user. Eg if the user provides n=10 the output should be 55.\n",
        "n = int(input(\"enter number to find sum: \"))\n",
        "sum = 0\n",
        "for i in range(0, n + 1) :\n",
        "  sum = sum + i\n",
        "  i += 1\n",
        "print(\"sum of first n numbers\", sum)\n",
        "\n"
      ],
      "metadata": {
        "colab": {
          "base_uri": "https://localhost:8080/"
        },
        "id": "GguhJ2Q7dpw5",
        "outputId": "dc3ee4cf-2919-43ca-fd45-802a45a8e2d4"
      },
      "execution_count": null,
      "outputs": [
        {
          "output_type": "stream",
          "name": "stdout",
          "text": [
            "enter number to find sum: 20000\n",
            "sum of first n numbers 200010000\n"
          ]
        }
      ]
    },
    {
      "cell_type": "code",
      "source": [
        "#Write a program that can multiply 2 numbers provided by the user without using the * operator\n",
        "num1 = 3\n",
        "num2 = 5\n",
        "sum = 0\n",
        "for i in range(0,5) :\n",
        "  sum = 3 + sum\n",
        "  i += 1\n",
        "print(sum)\n",
        "\n"
      ],
      "metadata": {
        "colab": {
          "base_uri": "https://localhost:8080/"
        },
        "id": "kE2_fEpaew3I",
        "outputId": "0874ce22-8380-4b8e-947d-94cc9e18af5d"
      },
      "execution_count": null,
      "outputs": [
        {
          "output_type": "stream",
          "name": "stdout",
          "text": [
            "15\n"
          ]
        }
      ]
    },
    {
      "cell_type": "code",
      "source": [
        "#Write a program that can find the factorial of a given number provided by the user.\n",
        "n  = int(input(\"enter number for which factorial needs to be calculated: \"))\n",
        "mul = 1\n",
        "for i in range(1, n+1) :\n",
        "  mul = mul * i\n",
        "print(mul)"
      ],
      "metadata": {
        "colab": {
          "base_uri": "https://localhost:8080/"
        },
        "id": "dWYQIA5ohfWH",
        "outputId": "eb7f4571-7165-45b4-cb14-2de207a4cccd"
      },
      "execution_count": null,
      "outputs": [
        {
          "output_type": "stream",
          "name": "stdout",
          "text": [
            "enter number for which factorial needs to be calculated: 5\n",
            "120\n"
          ]
        }
      ]
    },
    {
      "cell_type": "code",
      "source": [
        "#Write a program to print the first 25 odd numbers\n",
        "for i in range( 1 , 26) :\n",
        "  if i % 2 != 0 :\n",
        "    print(i)\n"
      ],
      "metadata": {
        "colab": {
          "base_uri": "https://localhost:8080/"
        },
        "id": "n7Khr0gNicAH",
        "outputId": "46f77773-e019-408b-d061-40fba5c985b7"
      },
      "execution_count": null,
      "outputs": [
        {
          "output_type": "stream",
          "name": "stdout",
          "text": [
            "1\n",
            "3\n",
            "5\n",
            "7\n",
            "9\n",
            "11\n",
            "13\n",
            "15\n",
            "17\n",
            "19\n",
            "21\n",
            "23\n",
            "25\n"
          ]
        }
      ]
    },
    {
      "cell_type": "code",
      "source": [
        "#Write a program to print whether a given number is prime number or not\n",
        "n = int(input(\"enter number for prime check : \"))\n",
        "for i in range(2,n) :\n",
        "  if n % i == 0 :\n",
        "    print(n , \"is not prime\")\n",
        "    break\n",
        "\n",
        "\n",
        "else :\n",
        "  print(n , \"is prime number\")\n",
        "\n",
        "\n",
        "\n",
        "\n",
        "\n",
        "\n"
      ],
      "metadata": {
        "colab": {
          "base_uri": "https://localhost:8080/"
        },
        "id": "ytA5czU3NBsG",
        "outputId": "9b761dee-1d19-4f72-f98b-a0fe229b9cd1"
      },
      "execution_count": null,
      "outputs": [
        {
          "output_type": "stream",
          "name": "stdout",
          "text": [
            "enter number for prime check : 8\n",
            "8 is not prime\n"
          ]
        }
      ]
    },
    {
      "cell_type": "code",
      "source": [
        "#The current population of a town is 10000. The population of the town is increasing at the rate of 10% per year. You have to write a program to find out the population at the end of each of the last 10 years.\n",
        "pop = 10000\n",
        "for i in range(1,11) :\n",
        "  pop = round(pop + (10*pop)/100)\n",
        "  i += 1\n",
        "  print(i,\"year\",pop)\n"
      ],
      "metadata": {
        "colab": {
          "base_uri": "https://localhost:8080/"
        },
        "id": "ZTzDrSNMW7pZ",
        "outputId": "670f9184-103a-4f5c-f7c1-e23495a58e74"
      },
      "execution_count": null,
      "outputs": [
        {
          "output_type": "stream",
          "name": "stdout",
          "text": [
            "2 year 11000\n",
            "3 year 12100\n",
            "4 year 13310\n",
            "5 year 14641\n",
            "6 year 16105\n",
            "7 year 17716\n",
            "8 year 19488\n",
            "9 year 21437\n",
            "10 year 23581\n",
            "11 year 25939\n"
          ]
        }
      ]
    },
    {
      "cell_type": "code",
      "source": [
        "#Write a program to print all the unique combinations of 1,2,3 and 4\n",
        "a = [1,2,3,4]\n",
        "for i in range(4) :\n",
        "  for j in range(4) :\n",
        "    for k in range(4) :\n",
        "      for l in range(4) :\n",
        "        if i != j and j != k and k != l and l != i :\n",
        "          c = (a[i], a[j], a[k], a[l])\n",
        "\n",
        "          print(c)"
      ],
      "metadata": {
        "colab": {
          "base_uri": "https://localhost:8080/"
        },
        "id": "hEv3T6hYaC3X",
        "outputId": "a9314543-95b1-462c-b2ec-0b4c55f109a4"
      },
      "execution_count": null,
      "outputs": [
        {
          "output_type": "stream",
          "name": "stdout",
          "text": [
            "(1, 2, 1, 2)\n",
            "(1, 2, 1, 3)\n",
            "(1, 2, 1, 4)\n",
            "(1, 2, 3, 2)\n",
            "(1, 2, 3, 4)\n",
            "(1, 2, 4, 2)\n",
            "(1, 2, 4, 3)\n",
            "(1, 3, 1, 2)\n",
            "(1, 3, 1, 3)\n",
            "(1, 3, 1, 4)\n",
            "(1, 3, 2, 3)\n",
            "(1, 3, 2, 4)\n",
            "(1, 3, 4, 2)\n",
            "(1, 3, 4, 3)\n",
            "(1, 4, 1, 2)\n",
            "(1, 4, 1, 3)\n",
            "(1, 4, 1, 4)\n",
            "(1, 4, 2, 3)\n",
            "(1, 4, 2, 4)\n",
            "(1, 4, 3, 2)\n",
            "(1, 4, 3, 4)\n",
            "(2, 1, 2, 1)\n",
            "(2, 1, 2, 3)\n",
            "(2, 1, 2, 4)\n",
            "(2, 1, 3, 1)\n",
            "(2, 1, 3, 4)\n",
            "(2, 1, 4, 1)\n",
            "(2, 1, 4, 3)\n",
            "(2, 3, 1, 3)\n",
            "(2, 3, 1, 4)\n",
            "(2, 3, 2, 1)\n",
            "(2, 3, 2, 3)\n",
            "(2, 3, 2, 4)\n",
            "(2, 3, 4, 1)\n",
            "(2, 3, 4, 3)\n",
            "(2, 4, 1, 3)\n",
            "(2, 4, 1, 4)\n",
            "(2, 4, 2, 1)\n",
            "(2, 4, 2, 3)\n",
            "(2, 4, 2, 4)\n",
            "(2, 4, 3, 1)\n",
            "(2, 4, 3, 4)\n",
            "(3, 1, 2, 1)\n",
            "(3, 1, 2, 4)\n",
            "(3, 1, 3, 1)\n",
            "(3, 1, 3, 2)\n",
            "(3, 1, 3, 4)\n",
            "(3, 1, 4, 1)\n",
            "(3, 1, 4, 2)\n",
            "(3, 2, 1, 2)\n",
            "(3, 2, 1, 4)\n",
            "(3, 2, 3, 1)\n",
            "(3, 2, 3, 2)\n",
            "(3, 2, 3, 4)\n",
            "(3, 2, 4, 1)\n",
            "(3, 2, 4, 2)\n",
            "(3, 4, 1, 2)\n",
            "(3, 4, 1, 4)\n",
            "(3, 4, 2, 1)\n",
            "(3, 4, 2, 4)\n",
            "(3, 4, 3, 1)\n",
            "(3, 4, 3, 2)\n",
            "(3, 4, 3, 4)\n",
            "(4, 1, 2, 1)\n",
            "(4, 1, 2, 3)\n",
            "(4, 1, 3, 1)\n",
            "(4, 1, 3, 2)\n",
            "(4, 1, 4, 1)\n",
            "(4, 1, 4, 2)\n",
            "(4, 1, 4, 3)\n",
            "(4, 2, 1, 2)\n",
            "(4, 2, 1, 3)\n",
            "(4, 2, 3, 1)\n",
            "(4, 2, 3, 2)\n",
            "(4, 2, 4, 1)\n",
            "(4, 2, 4, 2)\n",
            "(4, 2, 4, 3)\n",
            "(4, 3, 1, 2)\n",
            "(4, 3, 1, 3)\n",
            "(4, 3, 2, 1)\n",
            "(4, 3, 2, 3)\n",
            "(4, 3, 4, 1)\n",
            "(4, 3, 4, 2)\n",
            "(4, 3, 4, 3)\n"
          ]
        }
      ]
    },
    {
      "cell_type": "code",
      "source": [
        "#User will provide 2 numbers you have to find the HCF of those 2 numbers\n",
        "a = int(input())\n",
        "b = int(input())\n",
        "alist = list()\n",
        "if a > b :\n",
        "  for i in range(1, a+1) :\n",
        "    if a % i == 0 and b % i == 0 :\n",
        "      alist.append(i)\n",
        "      alist.sort(reverse = True)\n",
        "  print(alist)\n",
        "  print(\"HCF 1\" , alist[0])\n",
        "elif b > a :\n",
        "  for i in range(1, b + 1) :\n",
        "    if a % i == 0 and b % i == 0 :\n",
        "      alist.append(i)\n",
        "      alist.sort(reverse = True)\n",
        "  print(alist)\n",
        "  print(\"HCF 2\" , alist[0])\n",
        "\n",
        "\n",
        "\n",
        "\n",
        "\n",
        "\n",
        "\n"
      ],
      "metadata": {
        "colab": {
          "base_uri": "https://localhost:8080/"
        },
        "id": "4yVYcKDQhBBo",
        "outputId": "59d06b61-ecb2-4c41-bc52-8289ac7945c3"
      },
      "execution_count": null,
      "outputs": [
        {
          "output_type": "stream",
          "name": "stdout",
          "text": [
            "1234\n",
            "4567\n",
            "[1]\n",
            "HCF 2 1\n"
          ]
        }
      ]
    },
    {
      "cell_type": "code",
      "source": [],
      "metadata": {
        "id": "uBIoUV0Uv2fh"
      },
      "execution_count": null,
      "outputs": []
    },
    {
      "cell_type": "code",
      "source": [
        "#User will provide 2 numbers you have to find the lCF of those 2 numbers\n",
        "a = int(input())\n",
        "b = int(input())\n",
        "alist = list()\n",
        "if a > b :\n",
        "  for i in range(1, a+1) :\n",
        "    if a % i == 0 and b % i == 0 :\n",
        "      alist.append(i)\n",
        "      alist.sort()\n",
        "  print(alist)\n",
        "  print(\"HCF 1\" , alist[0])\n",
        "elif b > a :\n",
        "  for i in range(1, b + 1) :\n",
        "    if a % i == 0 and b % i == 0 :\n",
        "      alist.append(i)\n",
        "      alist.sort()\n",
        "  print(alist)\n",
        "  print(\"HCF 2\" , alist[0])\n",
        "\n",
        "\n",
        "\n",
        "\n",
        "\n",
        "\n",
        "\n"
      ],
      "metadata": {
        "colab": {
          "base_uri": "https://localhost:8080/"
        },
        "outputId": "230f09b7-809b-4b1f-fcc6-e8bf54863537",
        "id": "LZXlHtu6v2-Z"
      },
      "execution_count": null,
      "outputs": [
        {
          "output_type": "stream",
          "name": "stdout",
          "text": [
            "12\n",
            "6\n",
            "[1, 2, 3, 6]\n",
            "HCF 1 1\n"
          ]
        }
      ]
    },
    {
      "cell_type": "code",
      "source": [
        "#Print first 25 prime numbers\n",
        "for i in range(3 , 26) :\n",
        "  for j in range(2, i) :\n",
        "    if i % j == 0 :\n",
        "      break\n",
        "  else :\n",
        "    print(i , \"is prime\")\n",
        "\n",
        "\n",
        "\n",
        "\n",
        "\n",
        "\n",
        "\n",
        "\n",
        "\n",
        "\n",
        "\n",
        "\n",
        "\n",
        "\n",
        "\n",
        "\n"
      ],
      "metadata": {
        "colab": {
          "base_uri": "https://localhost:8080/"
        },
        "id": "c0MX3BtGwhpL",
        "outputId": "33cb0974-3a07-4447-eaf0-ac93c41307a1"
      },
      "execution_count": null,
      "outputs": [
        {
          "output_type": "stream",
          "name": "stdout",
          "text": [
            "3 is prime\n",
            "5 is prime\n",
            "7 is prime\n",
            "11 is prime\n",
            "13 is prime\n",
            "17 is prime\n",
            "19 is prime\n",
            "23 is prime\n"
          ]
        }
      ]
    },
    {
      "cell_type": "code",
      "source": [
        "#Print the first 20 numbers of a Fibonacci series\n",
        "ser = list()\n",
        "i = 0\n",
        "j = 1\n",
        "for i in range(20) :\n",
        "  k = i + j\n",
        "  i = j\n",
        "  j = k\n",
        "  print(j)\n",
        "\n"
      ],
      "metadata": {
        "colab": {
          "base_uri": "https://localhost:8080/"
        },
        "id": "fL_m1_xpaEFg",
        "outputId": "5ef44259-b664-455c-fcf5-cd8e99db0fd5"
      },
      "execution_count": null,
      "outputs": [
        {
          "output_type": "stream",
          "name": "stdout",
          "text": [
            "1\n",
            "2\n",
            "4\n",
            "7\n",
            "11\n",
            "16\n",
            "22\n",
            "29\n",
            "37\n",
            "46\n",
            "56\n",
            "67\n",
            "79\n",
            "92\n",
            "106\n",
            "121\n",
            "137\n",
            "154\n",
            "172\n",
            "191\n"
          ]
        }
      ]
    },
    {
      "cell_type": "code",
      "source": [
        "# Program to display the Fibonacci sequence up to n-th term\n",
        "\n",
        "nterms = int(input(\"How many terms? \"))\n",
        "\n",
        "# first two terms\n",
        "n1, n2 = 0, 1\n",
        "count = 0\n",
        "\n",
        "# check if the number of terms is valid\n",
        "if nterms <= 0:\n",
        "   print(\"Please enter a positive integer\")\n",
        "# if there is only one term, return n1\n",
        "elif nterms == 1:\n",
        "   print(\"Fibonacci sequence upto\",nterms,\":\")\n",
        "   print(n1)\n",
        "# generate fibonacci sequence\n",
        "else:\n",
        "   print(\"Fibonacci sequence:\")\n",
        "   while count < nterms:\n",
        "       print(n1)\n",
        "       nth = n1 + n2\n",
        "       # update values\n",
        "       n1 = n2\n",
        "       n2 = nth\n",
        "       count += 1"
      ],
      "metadata": {
        "colab": {
          "base_uri": "https://localhost:8080/"
        },
        "id": "oUF99ANKx26O",
        "outputId": "e083fc59-63f9-4627-b4aa-1a30ffca76ec"
      },
      "execution_count": null,
      "outputs": [
        {
          "output_type": "stream",
          "name": "stdout",
          "text": [
            "How many terms? 20\n",
            "Fibonacci sequence:\n",
            "0\n",
            "1\n",
            "1\n",
            "2\n",
            "3\n",
            "5\n",
            "8\n",
            "13\n",
            "21\n",
            "34\n",
            "55\n",
            "89\n",
            "144\n",
            "233\n",
            "377\n",
            "610\n",
            "987\n",
            "1597\n",
            "2584\n",
            "4181\n"
          ]
        }
      ]
    },
    {
      "cell_type": "code",
      "source": [
        "#Write a program to find the compound interest\n",
        "def CI(p , t , n = 1 , r = 0.1) :\n",
        "  final = p*(1 + r / n )**(n*t)\n",
        "  return final\n",
        "p = int(input(\"enter principal amount: \"))\n",
        "t = int(input(\"enter time for which money is borowed: \"))\n",
        "CI(p , t )\n"
      ],
      "metadata": {
        "colab": {
          "base_uri": "https://localhost:8080/"
        },
        "id": "KpZtH06Wzial",
        "outputId": "f3c96e9d-d946-4f43-86f5-984398a0a969"
      },
      "execution_count": null,
      "outputs": [
        {
          "name": "stdout",
          "output_type": "stream",
          "text": [
            "enter principal amount: 5000\n",
            "enter time for which money is borowed: 5\n"
          ]
        },
        {
          "output_type": "execute_result",
          "data": {
            "text/plain": [
              "8052.550000000003"
            ]
          },
          "metadata": {},
          "execution_count": 12
        }
      ]
    },
    {
      "cell_type": "code",
      "source": [
        "#Write a Python program that accepts an integer (n) and computes the value of n+nn+nnn.\n",
        "n , m = 5 , 5\n",
        "change = n\n",
        "sum = 0\n",
        "for i in range(m) :\n",
        "  sum += change\n",
        "  change = change * 10 + n\n",
        "print(sum)\n",
        "print(change)\n"
      ],
      "metadata": {
        "colab": {
          "base_uri": "https://localhost:8080/"
        },
        "id": "_sWHFOZZ4vJM",
        "outputId": "ff776674-0655-402d-f174-45e1d07669e7"
      },
      "execution_count": null,
      "outputs": [
        {
          "output_type": "stream",
          "name": "stdout",
          "text": [
            "61725\n",
            "555555\n"
          ]
        }
      ]
    },
    {
      "cell_type": "code",
      "source": [
        "#Take a number from the user and find the number of digits in it.\n",
        "n = int(input(\"enter number to count the digit: \"))\n",
        "strn = str(n)\n",
        "digi = len(strn)\n",
        "print(\"enter number of digits\", digi)"
      ],
      "metadata": {
        "colab": {
          "base_uri": "https://localhost:8080/"
        },
        "id": "aIwJWecyPTE4",
        "outputId": "df684f4c-dc5c-4973-d2ea-f5c7eea47e68"
      },
      "execution_count": null,
      "outputs": [
        {
          "output_type": "stream",
          "name": "stdout",
          "text": [
            "enter number to count the digit: 45671\n",
            "enter number of digits 5\n"
          ]
        }
      ]
    },
    {
      "cell_type": "code",
      "source": [
        "#Print all factors of a given number provided by the user.\n",
        "n = int(input(\"enter number to find factors: \"))\n",
        "for i in range(1, n) :\n",
        "  if n % i == 0 :\n",
        "    print(i)\n"
      ],
      "metadata": {
        "colab": {
          "base_uri": "https://localhost:8080/"
        },
        "id": "ZUFe_V4oRJ-J",
        "outputId": "f494304a-c813-4513-83d7-c27d92dc1bca"
      },
      "execution_count": null,
      "outputs": [
        {
          "output_type": "stream",
          "name": "stdout",
          "text": [
            "enter number to find factors: 44\n",
            "1\n",
            "2\n",
            "4\n",
            "11\n",
            "22\n"
          ]
        }
      ]
    },
    {
      "cell_type": "code",
      "source": [
        "#Find the reverse of a number provided by the user(any number of digit)\n",
        "n = int(input(\"enter number: \"))\n",
        "strn = str(n)\n",
        "rev = strn[::-1]\n",
        "print(rev)"
      ],
      "metadata": {
        "colab": {
          "base_uri": "https://localhost:8080/"
        },
        "id": "k_Rkgu1fXJj5",
        "outputId": "755e21b6-2164-48e8-cc6a-c3640642491d"
      },
      "execution_count": null,
      "outputs": [
        {
          "output_type": "stream",
          "name": "stdout",
          "text": [
            "enter number: 4567\n",
            "7654\n"
          ]
        }
      ]
    },
    {
      "cell_type": "code",
      "source": [
        "#Write a program to print the following pattern(41)\n",
        "n = int(input(\"enter number for pattern: \"))\n",
        "s = input(\"enter character for pattern: \")\n",
        "ns = str(s)\n",
        "for i in range(1 , n + 1) :\n",
        "  for j in range(1, i +1) :\n",
        "    j = ns\n",
        "    print(j , end = \" \")\n",
        "  print()\n",
        "for k in range(n , 0 , -1) :\n",
        "  for l in range(1 , k ) :\n",
        "    print(\"*\" , end = \" \")\n",
        "  print()\n",
        "\n",
        "\n",
        "\n",
        "\n",
        "\n",
        "\n",
        "\n"
      ],
      "metadata": {
        "colab": {
          "base_uri": "https://localhost:8080/"
        },
        "id": "Qkd_GLiWcSn1",
        "outputId": "6144280a-a922-4a41-fd43-9fc7481586d0"
      },
      "execution_count": null,
      "outputs": [
        {
          "output_type": "stream",
          "name": "stdout",
          "text": [
            "enter number for pattern: 5\n",
            "enter character for pattern: *\n",
            "* \n",
            "* * \n",
            "* * * \n",
            "* * * * \n",
            "* * * * * \n",
            "* * * * \n",
            "* * * \n",
            "* * \n",
            "* \n",
            "\n"
          ]
        }
      ]
    },
    {
      "cell_type": "code",
      "source": [
        "#42\n",
        "rows = 5\n",
        "for i in range(rows, 0, -1):\n",
        "    for j in range(i):\n",
        "        print(\"*\", end=\"\")\n",
        "    print()"
      ],
      "metadata": {
        "colab": {
          "base_uri": "https://localhost:8080/"
        },
        "id": "8bOEGQlAjKKm",
        "outputId": "34db9ffb-0ec4-4e6d-e8b0-1382e14c9de0"
      },
      "execution_count": null,
      "outputs": [
        {
          "output_type": "stream",
          "name": "stdout",
          "text": [
            "*****\n",
            "****\n",
            "***\n",
            "**\n",
            "*\n"
          ]
        }
      ]
    },
    {
      "cell_type": "code",
      "source": [
        "#43\n",
        "rows = int(input(\"Enter the row size for the pattern: \"))\n",
        "for i in range(1, rows + 1):  # Outer loop for rows\n",
        "    for j in range(rows  - i):  # Inner loop for spaces\n",
        "        print(\" \", end=\" \")\n",
        "    for k in range(1, 2 * i):  # Inner loop for stars\n",
        "        print(\"*\", end=\" \")\n",
        "    print()\n"
      ],
      "metadata": {
        "colab": {
          "base_uri": "https://localhost:8080/"
        },
        "id": "PleyQSZxwe5Q",
        "outputId": "7784dfca-349b-474b-b1e8-6127a191b359"
      },
      "execution_count": null,
      "outputs": [
        {
          "output_type": "stream",
          "name": "stdout",
          "text": [
            "Enter the row size for the pattern: 5\n",
            "        * \n",
            "      * * * \n",
            "    * * * * * \n",
            "  * * * * * * * \n",
            "* * * * * * * * * \n"
          ]
        }
      ]
    },
    {
      "cell_type": "code",
      "source": [
        "n = int(input(\"enter number for pattern: \"))\n",
        "s = input(\"enter character for pattern: \")\n",
        "ns = str(s)\n",
        "for i in range(1 , n + 1) :\n",
        "  for j in range(1, i +1) :\n",
        "    j = ns\n",
        "    print(j , end = \" \")\n",
        "  print()"
      ],
      "metadata": {
        "colab": {
          "base_uri": "https://localhost:8080/"
        },
        "id": "qSZBPDrgdAMo",
        "outputId": "d0e49f0c-e828-48f3-bee1-e6193aae3f58"
      },
      "execution_count": null,
      "outputs": [
        {
          "output_type": "stream",
          "name": "stdout",
          "text": [
            "enter number for pattern: 5\n",
            "enter character for pattern: 1\n",
            "1 \n",
            "1 1 \n",
            "1 1 1 \n",
            "1 1 1 1 \n",
            "1 1 1 1 1 \n"
          ]
        }
      ]
    },
    {
      "cell_type": "code",
      "source": [
        "#44( not understood)\n",
        "n = int(input(\"enter number: \"))\n",
        "for i in range(1 , n +1) :\n",
        "  for j in range(1 , i + 1) :\n",
        "    for k in range( j ) :\n",
        "      print(  k , end = \" \")\n",
        "    print()\n",
        "\n",
        "\n",
        "\n",
        "\n",
        "\n",
        "\n"
      ],
      "metadata": {
        "colab": {
          "base_uri": "https://localhost:8080/"
        },
        "id": "SsHoToKLdu1S",
        "outputId": "a7f5db9e-ece9-4d4f-ba43-c4b3c5d0bfba"
      },
      "execution_count": null,
      "outputs": [
        {
          "output_type": "stream",
          "name": "stdout",
          "text": [
            "enter number: 5\n",
            "0 \n",
            "0 \n",
            "0 1 \n",
            "0 \n",
            "0 1 \n",
            "0 1 2 \n",
            "0 \n",
            "0 1 \n",
            "0 1 2 \n",
            "0 1 2 3 \n",
            "0 \n",
            "0 1 \n",
            "0 1 2 \n",
            "0 1 2 3 \n",
            "0 1 2 3 4 \n"
          ]
        }
      ]
    },
    {
      "cell_type": "code",
      "source": [
        "#45(nu)\n",
        "n = int(input(\"enter number : \"))\n",
        "for i in range( 1 , n +1) :\n",
        "  for j in range( 1, i + i ) :\n",
        "    print( i , end = \" \")\n",
        "  print()\n",
        "\n"
      ],
      "metadata": {
        "colab": {
          "base_uri": "https://localhost:8080/"
        },
        "id": "hwq0jQGhiOL6",
        "outputId": "5de5fb9a-7f98-4f37-a72c-fa814157c44d"
      },
      "execution_count": null,
      "outputs": [
        {
          "output_type": "stream",
          "name": "stdout",
          "text": [
            "enter number : 5\n",
            "1 \n",
            "2 2 2 \n",
            "3 3 3 3 3 \n",
            "4 4 4 4 4 4 4 \n",
            "5 5 5 5 5 5 5 5 5 \n"
          ]
        }
      ]
    },
    {
      "cell_type": "code",
      "source": [
        "#46\n",
        "n = int(input(\"enter number : \"))\n",
        "fact = 1\n",
        "sum = 0\n",
        "for i in range(1, n +1) :\n",
        "  fact = fact * i\n",
        "  sum = sum + ( i/fact)\n",
        "\n",
        "print(\"sum is \" ,  sum)"
      ],
      "metadata": {
        "colab": {
          "base_uri": "https://localhost:8080/"
        },
        "id": "LK-P0Vx0nws1",
        "outputId": "8b46fc18-9cb2-4a2c-ec22-e603a489bde5"
      },
      "execution_count": null,
      "outputs": [
        {
          "output_type": "stream",
          "name": "stdout",
          "text": [
            "enter number : 5\n",
            "sum is  2.708333333333333\n"
          ]
        }
      ]
    },
    {
      "cell_type": "code",
      "source": [
        "def sum_series_iterative(n):\n",
        "    \"\"\"\n",
        "    Calculates the sum of the series 1/1! + 2/2! + ... + n/n! iteratively.\n",
        "    \"\"\"\n",
        "    total_sum = 0\n",
        "    factorial = 1  # Initialize factorial for 1!\n",
        "    for i in range(1, n + 1):\n",
        "        factorial *= i  # Calculate factorial for current i\n",
        "        total_sum += i / factorial\n",
        "    return total_sum\n",
        "\n",
        "# Example usage:\n",
        "n_value = 5\n",
        "result = sum_series_iterative(n_value)\n",
        "print(f\"The sum of the series for n = {n_value} is: {result}\")"
      ],
      "metadata": {
        "colab": {
          "base_uri": "https://localhost:8080/"
        },
        "id": "F5cYZbQhppVm",
        "outputId": "15eac33a-2ef8-4506-a47f-e19098c45900"
      },
      "execution_count": null,
      "outputs": [
        {
          "output_type": "stream",
          "name": "stdout",
          "text": [
            "The sum of the series for n = 5 is: 2.708333333333333\n"
          ]
        }
      ]
    },
    {
      "cell_type": "code",
      "source": [
        "n = 5\n",
        "fact = 1\n",
        "for i in range(1 , n +1) :\n",
        "  fact = fact * i\n",
        "print(fact)\n",
        "\n",
        "\n",
        "\n"
      ],
      "metadata": {
        "colab": {
          "base_uri": "https://localhost:8080/"
        },
        "id": "r6at5LS2s5Yx",
        "outputId": "c8bf2e38-e949-4fcc-fb11-cc00e552e0bd"
      },
      "execution_count": null,
      "outputs": [
        {
          "output_type": "stream",
          "name": "stdout",
          "text": [
            "120\n"
          ]
        }
      ]
    },
    {
      "cell_type": "code",
      "source": [
        "#47\n",
        "n = int(input(\"enter number: \"))\n",
        "sum = 1\n",
        "x = 2\n",
        "for i in range(1 , n +1 ) :\n",
        "  sum = sum + (x**i/i)\n",
        "print(sum)\n"
      ],
      "metadata": {
        "colab": {
          "base_uri": "https://localhost:8080/"
        },
        "id": "7bOhukzWfDWh",
        "outputId": "a70bc60a-5059-4598-9c87-fb39f85faeea"
      },
      "execution_count": null,
      "outputs": [
        {
          "output_type": "stream",
          "name": "stdout",
          "text": [
            "enter number: 5\n",
            "18.066666666666666\n"
          ]
        }
      ]
    },
    {
      "cell_type": "code",
      "source": [
        "#48\n",
        "n = int(input(\"enter number: \"))\n",
        "f = x-1/x\n",
        "x = 10\n",
        "sum = 0\n",
        "for i in range(1 , n + 1) :\n",
        "  sum = sum + f + 1/2*f**i\n",
        "print(sum)"
      ],
      "metadata": {
        "colab": {
          "base_uri": "https://localhost:8080/"
        },
        "id": "jqvtVMRijPsv",
        "outputId": "39520f34-b69b-4350-8e3d-5c4bad1f224f"
      },
      "execution_count": null,
      "outputs": [
        {
          "output_type": "stream",
          "name": "stdout",
          "text": [
            "enter number: 5\n",
            "52941.08704500001\n"
          ]
        }
      ]
    },
    {
      "cell_type": "code",
      "source": [
        "#Write a program that keeps on accepting a number from the user until the user enters Zero. Display the sum and average of all the numbers.\n",
        "numbers = list()\n",
        "while True :\n",
        "  print(\"enter numbers\")\n",
        "  n = int(input())\n",
        "  if n== 0 :\n",
        "    break\n",
        "  numbers.append(n)\n",
        "  add = sum(numbers)\n",
        "  l = len(numbers)\n",
        "  avg = add / l\n",
        "  print(\"sum of number\", add ,\"avg of numbers\", avg)\n",
        "\n",
        "\n",
        "\n",
        "\n",
        "\n",
        "\n",
        "\n",
        "\n",
        "\n",
        "\n",
        "\n",
        "\n",
        "\n"
      ],
      "metadata": {
        "colab": {
          "base_uri": "https://localhost:8080/"
        },
        "id": "dyW9IFaB01vl",
        "outputId": "2affa673-8318-4cfc-9b45-7a5cbb694d11"
      },
      "execution_count": null,
      "outputs": [
        {
          "name": "stdout",
          "output_type": "stream",
          "text": [
            "enter numbers\n",
            "2\n",
            "sum of number 2 avg of numbers 2.0\n",
            "enter numbers\n",
            "4\n",
            "sum of number 6 avg of numbers 3.0\n",
            "enter numbers\n",
            "7\n",
            "sum of number 13 avg of numbers 4.333333333333333\n",
            "enter numbers\n",
            "22\n",
            "sum of number 35 avg of numbers 8.75\n",
            "enter numbers\n",
            "0\n"
          ]
        }
      ]
    },
    {
      "cell_type": "code",
      "source": [
        "#Write a program that accepts 2 numbers from the user a numerator and a denominator and then simplifies it\n",
        "from fractions import Fraction\n",
        "def fr(num , deno = 1) :\n",
        "  simp = Fraction(num , deno)\n",
        "  print(f\"simplified : {simp}\")\n",
        "num = int(input(\"enter numerator: \"))\n",
        "deno = int(input(\"enter denominator : \"))\n",
        "fr(num , deno)\n"
      ],
      "metadata": {
        "colab": {
          "base_uri": "https://localhost:8080/"
        },
        "id": "oTE5P17f63yl",
        "outputId": "6a7a40cd-452c-499d-ea45-a8379f62103b"
      },
      "execution_count": null,
      "outputs": [
        {
          "output_type": "stream",
          "name": "stdout",
          "text": [
            "enter numerator: 4\n",
            "enter denominator : 8\n",
            "simplified : 1/2\n"
          ]
        }
      ]
    },
    {
      "cell_type": "code",
      "source": [
        "#Find the length of a given string without using the len() function.\n",
        "a = \"shiva\"\n",
        "count = 0\n",
        "\n",
        "for i in a :\n",
        "  count += 1\n",
        "print(count)\n",
        "\n",
        "\n",
        "\n",
        "\n"
      ],
      "metadata": {
        "colab": {
          "base_uri": "https://localhost:8080/"
        },
        "id": "ekJiOQWbEYXg",
        "outputId": "584169ab-8758-4a9f-b725-039c97de74d3"
      },
      "execution_count": null,
      "outputs": [
        {
          "output_type": "stream",
          "name": "stdout",
          "text": [
            "5\n"
          ]
        }
      ]
    },
    {
      "cell_type": "code",
      "source": [
        "#Extract username from a given email.\n",
        "#Eg if the email is shiva24singh@gmail.com then the username should be shiva24singh\n",
        "em = input(\"enter email: \")\n",
        "eml = em.split(\"@\")\n",
        "print(eml)\n",
        "print(\"the user name is\", eml[0])\n",
        "\n"
      ],
      "metadata": {
        "colab": {
          "base_uri": "https://localhost:8080/"
        },
        "id": "KANEtKI2L_5H",
        "outputId": "ab7df3c0-9311-41f8-d075-9822aab6f2a9"
      },
      "execution_count": null,
      "outputs": [
        {
          "output_type": "stream",
          "name": "stdout",
          "text": [
            "enter email: shiva24singh@gmail.com\n",
            "['shiva24singh', 'gmail.com']\n",
            "the user name is shiva24singh\n"
          ]
        }
      ]
    },
    {
      "cell_type": "code",
      "source": [
        "#Count the frequency of a particular character in a provided string. Eg 'hello how are you' is the string, the frequency of h in this string is 2.\n",
        "st = input()\n",
        "dict = {}\n",
        "for ch in st :\n",
        "  if ch in dict :\n",
        "    dict[ch] += 1\n",
        "  else :\n",
        "    dict[ch] = 1\n",
        "for key in dict :\n",
        "  print( key , \":\", dict[key])\n",
        "\n",
        "\n"
      ],
      "metadata": {
        "colab": {
          "base_uri": "https://localhost:8080/"
        },
        "id": "OhLWdTbhOJ9j",
        "outputId": "d2feea76-85f7-4c79-be6b-42975630b911"
      },
      "execution_count": null,
      "outputs": [
        {
          "output_type": "stream",
          "name": "stdout",
          "text": [
            "hello world\n",
            "h : 1\n",
            "e : 1\n",
            "l : 3\n",
            "o : 2\n",
            "  : 1\n",
            "w : 1\n",
            "r : 1\n",
            "d : 1\n"
          ]
        }
      ]
    },
    {
      "cell_type": "code",
      "source": [
        "#Find the index position of a particular character in another string.\n",
        "str1 = input(\"enter first string: \")\n",
        "str2 = input(\"enter 2nd string: \")\n",
        "for i in str1 :\n",
        "  for e in str2 :\n",
        "    if i == e :\n",
        "      pos = str1.index(i)\n",
        "      print(\"position of character is\", pos, \"character is\", i)\n",
        "\n",
        "\n",
        "\n",
        "\n",
        "\n"
      ],
      "metadata": {
        "colab": {
          "base_uri": "https://localhost:8080/"
        },
        "id": "2mF-C3kBQzdp",
        "outputId": "a3fea963-3838-4f8b-9990-c19af2b22f82"
      },
      "execution_count": null,
      "outputs": [
        {
          "output_type": "stream",
          "name": "stdout",
          "text": [
            "enter first string: anshu\n",
            "enter 2nd string: rohit\n",
            "position of character is 3 character is h\n"
          ]
        }
      ]
    },
    {
      "cell_type": "code",
      "source": [
        "#Count the number of vowels in a string provided by the user.\n",
        "str1 = input(\"enter string: \")\n",
        "vow = \"aeiou\"\n",
        "count = 0\n",
        "for i in str1 :\n",
        "  for e in vow :\n",
        "    if i == e :\n",
        "      count += 1\n",
        "      print(count)\n"
      ],
      "metadata": {
        "colab": {
          "base_uri": "https://localhost:8080/"
        },
        "id": "-0ZQNBUSeJpy",
        "outputId": "3039eaea-f676-48e4-d9ec-6612e3971703"
      },
      "execution_count": null,
      "outputs": [
        {
          "output_type": "stream",
          "name": "stdout",
          "text": [
            "enter string: mountain\n",
            "1\n",
            "2\n",
            "3\n",
            "4\n"
          ]
        }
      ]
    },
    {
      "cell_type": "code",
      "source": [
        "#Write a program which can remove a particular character from a string.\n",
        "str1 = \"hello 0 world\"\n",
        "str1.index(\"0\")\n",
        "nstr = \" \"\n",
        "index = 6\n",
        "for i in range(len(str1)) :\n",
        "  if i != index :\n",
        "    nstr += str1[i]\n",
        "print(nstr)\n",
        "\n"
      ],
      "metadata": {
        "colab": {
          "base_uri": "https://localhost:8080/"
        },
        "id": "cIeYDvjVfkNC",
        "outputId": "152daefc-f3ef-44c1-9063-6a5b8ecd8890"
      },
      "execution_count": null,
      "outputs": [
        {
          "output_type": "stream",
          "name": "stdout",
          "text": [
            " hello  world\n"
          ]
        }
      ]
    },
    {
      "cell_type": "code",
      "source": [
        "index2 = 12\n",
        "for i in range(len(str1)) :\n",
        "  if i != index2 :\n",
        "    nstr += str1[i]\n",
        "print(nstr)"
      ],
      "metadata": {
        "colab": {
          "base_uri": "https://localhost:8080/"
        },
        "id": "3h9h2jFijh3M",
        "outputId": "ac57d9fc-d043-4bd4-f29a-af8e116907b0"
      },
      "execution_count": null,
      "outputs": [
        {
          "output_type": "stream",
          "name": "stdout",
          "text": [
            " hello  worldhello 0 worl\n"
          ]
        }
      ]
    },
    {
      "cell_type": "code",
      "source": [
        "#Write a program that can check whether a given string is palindrome or not.\n",
        "str1 = \"anshu\"\n",
        "nstr = str1[::-1]\n",
        "print(nstr)\n",
        "if str1 == nstr :\n",
        "  print(\"yes\")\n",
        "else :\n",
        "  print(\"no\")\n",
        "\n",
        "\n",
        "\n",
        "\n"
      ],
      "metadata": {
        "colab": {
          "base_uri": "https://localhost:8080/"
        },
        "id": "4GTJsnEckPAT",
        "outputId": "8f341451-6f71-433f-97e5-e92252e7bce9"
      },
      "execution_count": null,
      "outputs": [
        {
          "output_type": "stream",
          "name": "stdout",
          "text": [
            "uhsna\n",
            "no\n"
          ]
        }
      ]
    },
    {
      "cell_type": "code",
      "source": [
        "#Write a python program to remove all the duplicates from a list\n",
        "name = [10 , 20 ,33, 40 , 41 ,10 , 20, 40 , 10 ,10 ,10]\n",
        "new = list()\n",
        "for i in name :\n",
        "  if i not in new :\n",
        "    new.append(i)\n",
        "print(new)\n",
        "\n",
        "new1 = list()\n",
        "na = list()\n",
        "def dup(na , new) :\n",
        "  n = int(input(\"enter how many number u want in list: \"))\n",
        "  for e in range(0, n + 1) :\n",
        "    num = int(input(\"enter number for list: \"))\n",
        "    na.append(num)\n",
        "  print(\"your list\" , na)\n",
        "  for i in na :\n",
        "    if i not in new1 :\n",
        "      new1.append(i)\n",
        "  print(new1)\n",
        "\n",
        "\n",
        "dup(na , new)\n",
        "\n",
        "\n",
        "\n"
      ],
      "metadata": {
        "colab": {
          "base_uri": "https://localhost:8080/"
        },
        "id": "XlYBSE2QsTdE",
        "outputId": "6f6d0f64-e219-4357-aa8b-11d07ababc32"
      },
      "execution_count": null,
      "outputs": [
        {
          "output_type": "stream",
          "name": "stdout",
          "text": [
            "[10, 20, 33, 40, 41]\n",
            "enter how many number u want in list: 6\n",
            "enter number for list: 20\n",
            "enter number for list: 40\n",
            "enter number for list: 40\n",
            "enter number for list: 10\n",
            "enter number for list: 20\n",
            "enter number for list: 50\n",
            "enter number for list: 10\n",
            "your list [20, 40, 40, 10, 20, 50, 10]\n",
            "[20, 40, 10, 50]\n"
          ]
        }
      ]
    },
    {
      "cell_type": "code",
      "source": [
        "#Write a python program to convert a string to title case without using the title()\n",
        "n = input(\"enter sentence: \")\n",
        "q = n.split()\n",
        "print(q)\n",
        "r = \" \"\n",
        "\n",
        "for i in q :\n",
        "  r = r + i[0].upper() + i[1:].lower() + \" \"\n",
        "\n",
        "print(r)\n",
        "\n",
        "\n",
        "\n"
      ],
      "metadata": {
        "id": "YdoRjCJivxDc",
        "colab": {
          "base_uri": "https://localhost:8080/"
        },
        "outputId": "3a282aba-62dd-4d20-fc78-a6db9d96bce1"
      },
      "execution_count": null,
      "outputs": [
        {
          "output_type": "stream",
          "name": "stdout",
          "text": [
            "enter sentence: hi how are you\n",
            "['hi', 'how', 'are', 'you']\n",
            " Hi How Are You \n"
          ]
        }
      ]
    },
    {
      "cell_type": "code",
      "source": [
        "#Write a python program to find the max item from a list without using the max function\n",
        "n = int(input(\"enter number : \"))\n",
        "k = list()\n",
        "for i in range(n) :\n",
        "  num = int(input())\n",
        "  k.append(num)\n",
        "print(k)\n",
        "\n",
        "q = k.sort(reverse = True)\n",
        "print(\"highest number is \",k[0])\n"
      ],
      "metadata": {
        "colab": {
          "base_uri": "https://localhost:8080/"
        },
        "id": "0OV8FCvNgUNs",
        "outputId": "d330cafe-8ccf-4021-d274-9b218a97b678"
      },
      "execution_count": null,
      "outputs": [
        {
          "output_type": "stream",
          "name": "stdout",
          "text": [
            "enter number : 6\n",
            "10\n",
            "44\n",
            "66\n",
            "30\n",
            "99\n",
            "24\n",
            "[10, 44, 66, 30, 99, 24]\n",
            "highest number is  99\n"
          ]
        }
      ]
    },
    {
      "cell_type": "code",
      "source": [
        "#Write a python program to reverse a list\n",
        "k[::-1]"
      ],
      "metadata": {
        "colab": {
          "base_uri": "https://localhost:8080/"
        },
        "id": "NllmbJKzhXev",
        "outputId": "4e5753cc-669b-4e91-b2e0-aa1e9229ba24"
      },
      "execution_count": null,
      "outputs": [
        {
          "output_type": "execute_result",
          "data": {
            "text/plain": [
              "[10, 24, 30, 44, 66, 99]"
            ]
          },
          "metadata": {},
          "execution_count": 12
        }
      ]
    },
    {
      "cell_type": "code",
      "source": [
        "#Write a python program to search a given number from a list\n",
        "n = int(input(\"enter number to search: \"))\n",
        "for i in k :\n",
        "  if i == n :\n",
        "    print(\"number found\", i)\n",
        "    break\n",
        "\n",
        "\n",
        "else :\n",
        "  print(\"number not found\")\n",
        "\n",
        "\n",
        "\n",
        "\n",
        "\n",
        "\n",
        "\n",
        "\n",
        "\n",
        "\n"
      ],
      "metadata": {
        "colab": {
          "base_uri": "https://localhost:8080/"
        },
        "id": "kNRDBcb_hsDc",
        "outputId": "76c44874-af3f-4452-8e03-4a83d34ebf3a"
      },
      "execution_count": null,
      "outputs": [
        {
          "output_type": "stream",
          "name": "stdout",
          "text": [
            "enter number to search: 99\n",
            "number found 99\n"
          ]
        }
      ]
    },
    {
      "cell_type": "code",
      "source": [
        "#Write a program that can create a new list from a given list where each item in the new list is square of the item of the old list\n",
        "n = int(input(\"enter number of list: \"))\n",
        "k = list()\n",
        "m = list()\n",
        "for i in range(n) :\n",
        "  num = int(input(\"enter numbers: \"))\n",
        "  l = num**2\n",
        "  k.append(num)\n",
        "  m.append(l)\n",
        "print(k)\n",
        "print(m)\n",
        "\n"
      ],
      "metadata": {
        "colab": {
          "base_uri": "https://localhost:8080/"
        },
        "id": "q1hCjBpfme6j",
        "outputId": "5cc1e919-034e-4823-b2e2-c3c445c260df"
      },
      "execution_count": null,
      "outputs": [
        {
          "output_type": "stream",
          "name": "stdout",
          "text": [
            "enter number of list: 3\n",
            "enter numbers: 22\n",
            "enter numbers: 10\n",
            "enter numbers: 44\n",
            "[22, 10, 44]\n",
            "[484, 100, 1936]\n"
          ]
        }
      ]
    },
    {
      "cell_type": "code",
      "source": [
        "#Write a program that can reverse words of a given string.\n",
        "n = \"anshu\"\n",
        "n[::-1]\n"
      ],
      "metadata": {
        "colab": {
          "base_uri": "https://localhost:8080/",
          "height": 36
        },
        "id": "tbd6hC87tk9D",
        "outputId": "db6e05b9-e7a8-4777-c012-0aa06c8f2ad0"
      },
      "execution_count": null,
      "outputs": [
        {
          "output_type": "execute_result",
          "data": {
            "text/plain": [
              "'uhsna'"
            ],
            "application/vnd.google.colaboratory.intrinsic+json": {
              "type": "string"
            }
          },
          "metadata": {},
          "execution_count": 46
        }
      ]
    },
    {
      "cell_type": "code",
      "source": [
        "#Write a program that can count the number of words in a given string\n",
        "n = input(\"enter words: \")\n",
        "count = 0\n",
        "for i in n :\n",
        "  count += 1\n",
        "print(count)\n"
      ],
      "metadata": {
        "colab": {
          "base_uri": "https://localhost:8080/"
        },
        "id": "11zROS3JvqJr",
        "outputId": "d0d1786d-6863-4ed8-8a5a-ff353ee4d636"
      },
      "execution_count": null,
      "outputs": [
        {
          "output_type": "stream",
          "name": "stdout",
          "text": [
            "enter words: anshu\n",
            "5\n"
          ]
        }
      ]
    },
    {
      "cell_type": "code",
      "source": [
        "#Write a program to check if a list is in ascending order or not\n",
        "b = [60, 20 , 30]\n",
        "flag = 0\n",
        "\n",
        "for i in range(len(b)- 1) :\n",
        "  if b[i] > b[i + 1] :\n",
        "    flag = 1\n",
        "    break\n",
        "\n",
        "\n",
        "\n",
        "if flag == 0 :\n",
        "  print(\"sorted\")\n",
        "\n",
        "else :\n",
        "  print(\"not sorted\")"
      ],
      "metadata": {
        "colab": {
          "base_uri": "https://localhost:8080/"
        },
        "id": "1r60TKxBw3S7",
        "outputId": "2173eb61-fb2a-4525-f29c-8994525458f8"
      },
      "execution_count": null,
      "outputs": [
        {
          "output_type": "stream",
          "name": "stdout",
          "text": [
            "not sorted\n"
          ]
        }
      ]
    },
    {
      "cell_type": "code",
      "source": [
        "#Create 2 lists from a given list where 1st list will contain all the odd numbers from the original list and the 2nd one will contain all the even numbers\n",
        "an = [1,2,3,4,5,6,7,8,9, 10]\n",
        "an1 = list()\n",
        "an2 = list()\n",
        "for i in an :\n",
        "  if i % 2 == 0 :\n",
        "    an2.append(i)\n",
        "  else :\n",
        "    an1.append(i)\n",
        "print(\"even\" , an2)\n",
        "print(\"odd\", an1)\n",
        "\n"
      ],
      "metadata": {
        "id": "jMfcLj3u2a2z",
        "colab": {
          "base_uri": "https://localhost:8080/"
        },
        "outputId": "2bacc46a-ee46-4a96-e904-0b44c459b40c"
      },
      "execution_count": null,
      "outputs": [
        {
          "output_type": "stream",
          "name": "stdout",
          "text": [
            "even [2, 4, 6, 8, 10]\n",
            "odd [1, 3, 5, 7, 9]\n"
          ]
        }
      ]
    },
    {
      "cell_type": "code",
      "source": [
        "#Write a program to merge 2 list without using the + operator\n",
        "s = [1,5,7]\n",
        "k = [2 , 8 , 10]\n",
        "s.extend(k)\n",
        "print(s)\n"
      ],
      "metadata": {
        "colab": {
          "base_uri": "https://localhost:8080/"
        },
        "id": "y7AvCSmYcv4x",
        "outputId": "8d3512af-1962-42d4-b66e-062c4f3f97f4"
      },
      "execution_count": null,
      "outputs": [
        {
          "output_type": "stream",
          "name": "stdout",
          "text": [
            "[1, 5, 7, 2, 8, 10]\n"
          ]
        }
      ]
    },
    {
      "cell_type": "code",
      "source": [
        "#Write a program to replace an item with a different item if found in the list\n",
        "s[0] = 56\n",
        "print(s)"
      ],
      "metadata": {
        "colab": {
          "base_uri": "https://localhost:8080/"
        },
        "id": "LtcvSyTSeesG",
        "outputId": "c8be3f94-995a-468c-e1c7-dde3f09c17e9"
      },
      "execution_count": null,
      "outputs": [
        {
          "output_type": "stream",
          "name": "stdout",
          "text": [
            "[56, 5, 7, 2, 8, 10]\n"
          ]
        }
      ]
    },
    {
      "cell_type": "code",
      "source": [
        "def rep(old,new) :\n",
        "  for i in range(len(s)) :\n",
        "    if s[i] == old :\n",
        "      s[i] = new\n",
        "  return s\n",
        "print(\"choose number to replace\" , s)\n",
        "old = int(input())\n",
        "new = int(input())\n",
        "rep(old , new)\n"
      ],
      "metadata": {
        "colab": {
          "base_uri": "https://localhost:8080/"
        },
        "id": "oOjNJvMmfMdQ",
        "outputId": "0d7d86a1-4877-4a4f-dbcc-13c5caa1066e"
      },
      "execution_count": null,
      "outputs": [
        {
          "name": "stdout",
          "output_type": "stream",
          "text": [
            "choose number to replace [56, 5, 7, 2, 8, 10]\n",
            "5\n",
            "55\n"
          ]
        },
        {
          "output_type": "execute_result",
          "data": {
            "text/plain": [
              "[56, 55, 7, 2, 8, 10]"
            ]
          },
          "metadata": {},
          "execution_count": 22
        }
      ]
    },
    {
      "cell_type": "code",
      "source": [
        "#Write a program that can convert a 2D list to 1D listWrite a program that can print\n",
        "b = [[1,2 ,3],[5,6]]\n",
        "c = list()\n",
        "for a in b :\n",
        "  for j in a :\n",
        "    c.append(j)\n",
        "print(c)\n"
      ],
      "metadata": {
        "colab": {
          "base_uri": "https://localhost:8080/"
        },
        "id": "hpzxIu7dgwme",
        "outputId": "abb7295c-62be-4ed2-d5f8-9aacd3e5e72c"
      },
      "execution_count": null,
      "outputs": [
        {
          "output_type": "stream",
          "name": "stdout",
          "text": [
            "[1, 2, 3, 5, 6]\n"
          ]
        }
      ]
    },
    {
      "cell_type": "code",
      "source": [
        "#Write a program that can perform union and intersection on 2 given list.\n",
        "a = [1 , 2 ,3]\n",
        "b = [ 10 , 20 , 30 ,1]\n",
        "c = list()\n",
        "d = list()\n",
        "\n",
        "def uninsc(a , b) :\n",
        "\n",
        "\n",
        "  for i in a :\n",
        "    for e in b :\n",
        "      if i == e :\n",
        "        c.append(i)\n",
        "  print(c)\n",
        "\n",
        "\n",
        "uninsc(a , b)\n",
        "\n",
        "\n",
        "#using set method\n",
        "\n",
        "res = set(a) & set(b)\n",
        "print(res)\n",
        "\n",
        "a.extend(b)\n",
        "print(a)"
      ],
      "metadata": {
        "colab": {
          "base_uri": "https://localhost:8080/"
        },
        "id": "adscV5Q4lE7k",
        "outputId": "d48748b7-af2a-46dd-9adf-507392630a8f"
      },
      "execution_count": null,
      "outputs": [
        {
          "output_type": "stream",
          "name": "stdout",
          "text": [
            "[1]\n",
            "{1}\n",
            "[1, 2, 3, 10, 20, 30, 1]\n"
          ]
        }
      ]
    },
    {
      "cell_type": "code",
      "source": [
        "#Write a program that can convert an integer to string\n",
        "n = 10\n",
        "k = str(n)\n",
        "print(k)\n",
        "type(k)"
      ],
      "metadata": {
        "colab": {
          "base_uri": "https://localhost:8080/"
        },
        "id": "6LskEboDtClN",
        "outputId": "4e3ae5de-b685-4103-dd69-e35c7911e1d7"
      },
      "execution_count": null,
      "outputs": [
        {
          "output_type": "stream",
          "name": "stdout",
          "text": [
            "10\n"
          ]
        },
        {
          "output_type": "execute_result",
          "data": {
            "text/plain": [
              "str"
            ]
          },
          "metadata": {},
          "execution_count": 38
        }
      ]
    },
    {
      "cell_type": "code",
      "source": [
        "#Write a program that can sort a given unsorted list. Dont use any built in function for sorting.\n",
        "a = [10 , 0 ,1 ,4 ,5]\n",
        "flag = 0\n",
        "\n",
        "\n",
        "for i in range(len(a) - 1) :\n",
        "\n",
        "  if a[i] > a[i + 1] :\n",
        "    flag = 1\n",
        "\n",
        "\n",
        "\n",
        "if flag == 0 :\n",
        "  print(\"sorted\")\n",
        "else :\n",
        "  print(\"not sorted\")\n",
        "\n"
      ],
      "metadata": {
        "colab": {
          "base_uri": "https://localhost:8080/"
        },
        "id": "oXYsc3h4t8uL",
        "outputId": "928c0579-d453-4af8-89ad-3517a64f22e0"
      },
      "execution_count": null,
      "outputs": [
        {
          "output_type": "stream",
          "name": "stdout",
          "text": [
            "not sorted\n"
          ]
        }
      ]
    },
    {
      "cell_type": "code",
      "source": [
        "song = \" Humko humise chura lo, Dil mein kahin tum chupa lo. Humko humise chura lo, Dil mein kahin tum chupa lo. Hum akele, kho na jaayen, Door tumse, ho na jaayen, Paas aao gale se laga lo Humko humise chura lo, Dil mein kahin tum chupa lo. Hum akele, kho na jaayen, Door tumse, ho na jaayen, Paas aao gale se laga lo. Humko humise chura lo Dil mein kahin tum chupa lo. Ye dil dhadka do, zulfein bikhra do, Sharma ke apna aanchal lehra do. Hum zulfein to bikhra dein, din mein raat na ho jaaye, Hum aanchal to lehra dein, par barsaat na ho jaaye Hone do barsaatein, karni hain kuch baatein. Paas aao gale se laga lo. Humko humise chura lo, Dil mein kahin tum chupa lo Hum akele, kho na jaayen, Door tumse, ho na jaayen, Paas aao gale se laga lo Humko humise chura lo Dil mein kahin tum chupa lo Tumpe marte hain, hum mar jayenge, Ye sab kahte hain, hum kar jayenge. Chutki bhar sindoor se tum ab ye maang zara bhar do, Kal kya ho kisne dekha sab kuch aaj abhi kar do. Ho na ho sab raazi, dil raazi rab raazi Paas aao gale se laga lo. Humko humise chura lo, Dil mein kahin tum chupa lo. Humko humise chura lo, Dil mein kahin tum chupa lo. Hum akele, kho na jaayen, Door tumse, ho na jaayen, Paas aao gale se laga lo. Paas aao gale se laga lo.\"\n",
        "k  = song.split()\n",
        "\n",
        "f = {}\n",
        "\n",
        "for i in k :\n",
        "  f[i] = f.get(i , 0) + 1\n",
        "m = max(f , key=f.get)\n",
        "print(m)"
      ],
      "metadata": {
        "colab": {
          "base_uri": "https://localhost:8080/"
        },
        "id": "QDIepN7R1w1F",
        "outputId": "735d5323-047b-46d7-d96d-8b8197de2cda"
      },
      "execution_count": null,
      "outputs": [
        {
          "output_type": "stream",
          "name": "stdout",
          "text": [
            "lo.\n"
          ]
        }
      ]
    },
    {
      "cell_type": "code",
      "source": [
        "a = [ 10 , 20 ,30,10, 20,50,10,10,10]\n",
        "dict = {}\n",
        "for i in a :\n",
        "  if i in dict :\n",
        "    dict[i] += 1\n",
        "  else :\n",
        "    dict[i] = 1\n",
        "for key in dict :\n",
        "  print(key , \":\" , dict[key])\n",
        "\n",
        "#max\n",
        "f = max(dict, key = dict.get)\n",
        "print(f)\n",
        "max()"
      ],
      "metadata": {
        "colab": {
          "base_uri": "https://localhost:8080/"
        },
        "id": "v0s9Vy9opAOK",
        "outputId": "95d8005e-a998-4af7-a747-4908dce3b225"
      },
      "execution_count": null,
      "outputs": [
        {
          "output_type": "stream",
          "name": "stdout",
          "text": [
            "10 : 5\n",
            "20 : 2\n",
            "30 : 1\n",
            "50 : 1\n",
            "10\n"
          ]
        }
      ]
    },
    {
      "cell_type": "code",
      "source": [
        "#Assume a list with numbers from 1 to 10 and then convert it into a dictionary where the key would be the numbers of the list and the values would be the square of those numbers.\n",
        "nu = [1,2,3,4,5,6,7,8,9,10]\n",
        "dict = {}\n",
        "for i in nu :\n",
        "  m = i\n",
        "  n = i**2\n",
        "  dict[m] = n\n",
        "print(dict)\n",
        "\n",
        "for k in dict :\n",
        "  print(k , \":\", dict[k])\n",
        "for key,value in dict.items() :\n",
        "  print(key , \":\" , value)\n",
        "\n"
      ],
      "metadata": {
        "id": "jVCkSEq06rno",
        "colab": {
          "base_uri": "https://localhost:8080/"
        },
        "outputId": "bbdeebb9-5f1c-4943-f1e3-9cb839927fe7"
      },
      "execution_count": null,
      "outputs": [
        {
          "output_type": "stream",
          "name": "stdout",
          "text": [
            "{1: 1, 2: 4, 3: 9, 4: 16, 5: 25, 6: 36, 7: 49, 8: 64, 9: 81, 10: 100}\n",
            "1 : 1\n",
            "2 : 4\n",
            "3 : 9\n",
            "4 : 16\n",
            "5 : 25\n",
            "6 : 36\n",
            "7 : 49\n",
            "8 : 64\n",
            "9 : 81\n",
            "10 : 100\n",
            "1 : 1\n",
            "2 : 4\n",
            "3 : 9\n",
            "4 : 16\n",
            "5 : 25\n",
            "6 : 36\n",
            "7 : 49\n",
            "8 : 64\n",
            "9 : 81\n",
            "10 : 100\n"
          ]
        }
      ]
    },
    {
      "cell_type": "code",
      "source": [
        "#Write a program to merge two given dictionary\n",
        "n = int(input(\"enter number of items: \"))\n",
        "dict1 = {}\n",
        "dict2 = {}\n",
        "for i in range(n) :\n",
        "  student = input(\"student name: \")\n",
        "  marks = input(\"student marks: \")\n",
        "\n",
        "  dict1[student] = marks\n",
        "print(dict1)\n",
        "\n",
        "for b in range(n) :\n",
        "  student = input(\"student name: \")\n",
        "  marks = input(\"student marks: \")\n",
        "  dict2[student] = marks\n",
        "print(dict2)\n",
        "\n",
        "for k in dict1 :\n",
        "  print(k , \":\" , dict1[k])\n",
        "for l in dict2 :\n",
        "  print(l , \":\" , dict2[l])\n",
        "\n",
        "\n",
        "\n"
      ],
      "metadata": {
        "colab": {
          "base_uri": "https://localhost:8080/"
        },
        "id": "6sTY3gDLNvCA",
        "outputId": "97735a50-6df9-46e9-bfff-7a5fa4e849f6"
      },
      "execution_count": null,
      "outputs": [
        {
          "output_type": "stream",
          "name": "stdout",
          "text": [
            "enter number of items: 2\n",
            "student name: qw\n",
            "student marks: 11\n",
            "student name: er\n",
            "student marks: 23\n",
            "{'qw': '11', 'er': '23'}\n",
            "student name: ty\n",
            "student marks: 44\n",
            "student name: ui\n",
            "student marks: 67\n",
            "{'ty': '44', 'ui': '67'}\n",
            "qw : 11\n",
            "er : 23\n",
            "ty : 44\n",
            "ui : 67\n"
          ]
        }
      ]
    },
    {
      "cell_type": "code",
      "source": [
        "#merging dictionary\n",
        "dict1.update(dict2)\n",
        "print(dict1)"
      ],
      "metadata": {
        "colab": {
          "base_uri": "https://localhost:8080/"
        },
        "id": "wmL0aTlVS_ua",
        "outputId": "25dee149-0046-4c58-8a0d-0d79d403f332"
      },
      "execution_count": null,
      "outputs": [
        {
          "output_type": "stream",
          "name": "stdout",
          "text": [
            "{'qw': '11', 'er': '23', 'ty': '44', 'ui': '67'}\n"
          ]
        }
      ]
    },
    {
      "cell_type": "code",
      "source": [
        "#Write a program to swap the key value pair for max and min values\n",
        "#Eg if the dict is like this {‘a’:1,’b’:2,’c’:3}\n",
        "\n",
        "#Output should be {a:3,b:2,c:1}\n",
        "\n",
        "k = {\"a\" : 1 , \"b\" : 2 , \"c\" : 3}\n",
        "m = max(k , key = k.get)\n",
        "print(m)\n",
        "n = min(k  , key = k.get)\n",
        "print(n)\n",
        "h = k[m]\n",
        "\n",
        "k[m] = k[n]\n",
        "k[n] = h\n",
        "print(k)\n",
        "\n",
        "\n",
        "n1 = 10\n",
        "n2 = 20\n",
        "(n1 , n2) = (20 , 10)\n",
        "print(n1 , n2)\n"
      ],
      "metadata": {
        "colab": {
          "base_uri": "https://localhost:8080/"
        },
        "id": "toQB8lEwTu1y",
        "outputId": "eef4e477-ede4-4ab8-a0b6-f1be3bd732e5"
      },
      "execution_count": null,
      "outputs": [
        {
          "output_type": "stream",
          "name": "stdout",
          "text": [
            "c\n",
            "a\n",
            "{'a': 3, 'b': 2, 'c': 1}\n",
            "20 10\n"
          ]
        }
      ]
    },
    {
      "cell_type": "code",
      "source": [
        "from posixpath import isabs\n",
        "#Write a function that accepts a string and returns the number of upper case chars and lower case chars as a dictionary\n",
        "n = \"Hello World\"\n",
        "k = n.split()\n",
        "count = { \"upper\" : 0 , \"lower\" : 0 }\n",
        "for i in n :\n",
        "  if \"A\" <= i <= \"Z\" :\n",
        "    count[\"upper\"] += 1\n",
        "  elif \"a\" <= i <= \"z\" :\n",
        "    count[\"lower\"] += 1\n",
        "print(count)\n",
        "\n",
        "\n",
        "\n",
        "\n",
        "\n"
      ],
      "metadata": {
        "colab": {
          "base_uri": "https://localhost:8080/"
        },
        "id": "nHKhPeIeiaUn",
        "outputId": "978b90c0-1547-4b5a-8361-4c217c266033"
      },
      "execution_count": null,
      "outputs": [
        {
          "output_type": "stream",
          "name": "stdout",
          "text": [
            "{'upper': 2, 'lower': 8}\n"
          ]
        }
      ]
    },
    {
      "cell_type": "code",
      "source": [
        "#Write a function that accepts a list of strings and performs Bag of words and convert it to numerical vectors.\n",
        "s = \" Beans. I was trying to explain to somebody as we were flying in, that's corn.  That's beans. And they were very impressed at my agricultural knowledge. Please give it up for Amaury once again for that outstanding introduction. I have a bunch of good friends here today, including somebody who I served with, who is one of the finest senators in the country, and we're lucky to have him, your Senator, Dick Durbin is here. I also noticed, by the way, former Governor Edgar here, who I haven't seen in a long time, and somehow he has not aged and I have. And it's great to see you, Governor. I want to thank President Killeen and everybody at the U of I System for making it possible for me to be here today. And I am deeply honored at the Paul Douglas Award that is being given to me. He is somebody who set the path for so much outstanding public service here in Illinois. Now, I want to start by addressing the elephant in the room. I know people are still wondering why I didn't speak at the commencement.\"\n",
        "k = s.split()\n",
        "print(k)\n",
        "dict = {}\n",
        "for i in k :\n",
        "  if i in dict :\n",
        "    dict[i] += 1\n",
        "  else :\n",
        "    dict[i] = 1\n",
        "for g in dict :\n",
        "  print(g , \":\", dict[g])"
      ],
      "metadata": {
        "colab": {
          "base_uri": "https://localhost:8080/"
        },
        "id": "79QnoTh7p2UW",
        "outputId": "e5a3685f-5b74-41e0-b935-8cc35018abbd"
      },
      "execution_count": null,
      "outputs": [
        {
          "output_type": "stream",
          "name": "stdout",
          "text": [
            "['Beans.', 'I', 'was', 'trying', 'to', 'explain', 'to', 'somebody', 'as', 'we', 'were', 'flying', 'in,', \"that's\", 'corn.', \"That's\", 'beans.', 'And', 'they', 'were', 'very', 'impressed', 'at', 'my', 'agricultural', 'knowledge.', 'Please', 'give', 'it', 'up', 'for', 'Amaury', 'once', 'again', 'for', 'that', 'outstanding', 'introduction.', 'I', 'have', 'a', 'bunch', 'of', 'good', 'friends', 'here', 'today,', 'including', 'somebody', 'who', 'I', 'served', 'with,', 'who', 'is', 'one', 'of', 'the', 'finest', 'senators', 'in', 'the', 'country,', 'and', \"we're\", 'lucky', 'to', 'have', 'him,', 'your', 'Senator,', 'Dick', 'Durbin', 'is', 'here.', 'I', 'also', 'noticed,', 'by', 'the', 'way,', 'former', 'Governor', 'Edgar', 'here,', 'who', 'I', \"haven't\", 'seen', 'in', 'a', 'long', 'time,', 'and', 'somehow', 'he', 'has', 'not', 'aged', 'and', 'I', 'have.', 'And', \"it's\", 'great', 'to', 'see', 'you,', 'Governor.', 'I', 'want', 'to', 'thank', 'President', 'Killeen', 'and', 'everybody', 'at', 'the', 'U', 'of', 'I', 'System', 'for', 'making', 'it', 'possible', 'for', 'me', 'to', 'be', 'here', 'today.', 'And', 'I', 'am', 'deeply', 'honored', 'at', 'the', 'Paul', 'Douglas', 'Award', 'that', 'is', 'being', 'given', 'to', 'me.', 'He', 'is', 'somebody', 'who', 'set', 'the', 'path', 'for', 'so', 'much', 'outstanding', 'public', 'service', 'here', 'in', 'Illinois.', 'Now,', 'I', 'want', 'to', 'start', 'by', 'addressing', 'the', 'elephant', 'in', 'the', 'room.', 'I', 'know', 'people', 'are', 'still', 'wondering', 'why', 'I', \"didn't\", 'speak', 'at', 'the', 'commencement.']\n",
            "Beans. : 1\n",
            "I : 12\n",
            "was : 1\n",
            "trying : 1\n",
            "to : 8\n",
            "explain : 1\n",
            "somebody : 3\n",
            "as : 1\n",
            "we : 1\n",
            "were : 2\n",
            "flying : 1\n",
            "in, : 1\n",
            "that's : 1\n",
            "corn. : 1\n",
            "That's : 1\n",
            "beans. : 1\n",
            "And : 3\n",
            "they : 1\n",
            "very : 1\n",
            "impressed : 1\n",
            "at : 4\n",
            "my : 1\n",
            "agricultural : 1\n",
            "knowledge. : 1\n",
            "Please : 1\n",
            "give : 1\n",
            "it : 2\n",
            "up : 1\n",
            "for : 5\n",
            "Amaury : 1\n",
            "once : 1\n",
            "again : 1\n",
            "that : 2\n",
            "outstanding : 2\n",
            "introduction. : 1\n",
            "have : 2\n",
            "a : 2\n",
            "bunch : 1\n",
            "of : 3\n",
            "good : 1\n",
            "friends : 1\n",
            "here : 3\n",
            "today, : 1\n",
            "including : 1\n",
            "who : 4\n",
            "served : 1\n",
            "with, : 1\n",
            "is : 4\n",
            "one : 1\n",
            "the : 9\n",
            "finest : 1\n",
            "senators : 1\n",
            "in : 4\n",
            "country, : 1\n",
            "and : 4\n",
            "we're : 1\n",
            "lucky : 1\n",
            "him, : 1\n",
            "your : 1\n",
            "Senator, : 1\n",
            "Dick : 1\n",
            "Durbin : 1\n",
            "here. : 1\n",
            "also : 1\n",
            "noticed, : 1\n",
            "by : 2\n",
            "way, : 1\n",
            "former : 1\n",
            "Governor : 1\n",
            "Edgar : 1\n",
            "here, : 1\n",
            "haven't : 1\n",
            "seen : 1\n",
            "long : 1\n",
            "time, : 1\n",
            "somehow : 1\n",
            "he : 1\n",
            "has : 1\n",
            "not : 1\n",
            "aged : 1\n",
            "have. : 1\n",
            "it's : 1\n",
            "great : 1\n",
            "see : 1\n",
            "you, : 1\n",
            "Governor. : 1\n",
            "want : 2\n",
            "thank : 1\n",
            "President : 1\n",
            "Killeen : 1\n",
            "everybody : 1\n",
            "U : 1\n",
            "System : 1\n",
            "making : 1\n",
            "possible : 1\n",
            "me : 1\n",
            "be : 1\n",
            "today. : 1\n",
            "am : 1\n",
            "deeply : 1\n",
            "honored : 1\n",
            "Paul : 1\n",
            "Douglas : 1\n",
            "Award : 1\n",
            "being : 1\n",
            "given : 1\n",
            "me. : 1\n",
            "He : 1\n",
            "set : 1\n",
            "path : 1\n",
            "so : 1\n",
            "much : 1\n",
            "public : 1\n",
            "service : 1\n",
            "Illinois. : 1\n",
            "Now, : 1\n",
            "start : 1\n",
            "addressing : 1\n",
            "elephant : 1\n",
            "room. : 1\n",
            "know : 1\n",
            "people : 1\n",
            "are : 1\n",
            "still : 1\n",
            "wondering : 1\n",
            "why : 1\n",
            "didn't : 1\n",
            "speak : 1\n",
            "commencement. : 1\n"
          ]
        }
      ]
    },
    {
      "cell_type": "code",
      "source": [
        "#Write a function that accepts a number and returns it’s factorial. You can not use any loop\n",
        "n = int(input(\"enter number : \"))\n",
        "fact = 1\n",
        "for i in range(1 , n + 1) :\n",
        "  fact = fact * i\n",
        "print(fact)\n"
      ],
      "metadata": {
        "colab": {
          "base_uri": "https://localhost:8080/",
          "height": 228
        },
        "id": "RUpe92_XtmT4",
        "outputId": "8c4cd746-4e4d-4736-e13c-1c1875d83e68"
      },
      "execution_count": null,
      "outputs": [
        {
          "output_type": "stream",
          "name": "stdout",
          "text": [
            "enter number : 5\n",
            "120\n"
          ]
        },
        {
          "output_type": "error",
          "ename": "TypeError",
          "evalue": "'int' object is not callable",
          "traceback": [
            "\u001b[0;31m---------------------------------------------------------------------------\u001b[0m",
            "\u001b[0;31mTypeError\u001b[0m                                 Traceback (most recent call last)",
            "\u001b[0;32m/tmp/ipython-input-43-2102066659.py\u001b[0m in \u001b[0;36m<cell line: 0>\u001b[0;34m()\u001b[0m\n\u001b[1;32m      6\u001b[0m \u001b[0mprint\u001b[0m\u001b[0;34m(\u001b[0m\u001b[0mfact\u001b[0m\u001b[0;34m)\u001b[0m\u001b[0;34m\u001b[0m\u001b[0;34m\u001b[0m\u001b[0m\n\u001b[1;32m      7\u001b[0m \u001b[0;34m\u001b[0m\u001b[0m\n\u001b[0;32m----> 8\u001b[0;31m \u001b[0mfact\u001b[0m \u001b[0;34m=\u001b[0m \u001b[0mn\u001b[0m\u001b[0;34m*\u001b[0m\u001b[0mfact\u001b[0m\u001b[0;34m(\u001b[0m\u001b[0mn\u001b[0m \u001b[0;34m-\u001b[0m \u001b[0;36m1\u001b[0m\u001b[0;34m)\u001b[0m\u001b[0;34m\u001b[0m\u001b[0;34m\u001b[0m\u001b[0m\n\u001b[0m\u001b[1;32m      9\u001b[0m \u001b[0mprint\u001b[0m\u001b[0;34m(\u001b[0m\u001b[0mfact\u001b[0m\u001b[0;34m)\u001b[0m\u001b[0;34m\u001b[0m\u001b[0;34m\u001b[0m\u001b[0m\n",
            "\u001b[0;31mTypeError\u001b[0m: 'int' object is not callable"
          ]
        }
      ]
    },
    {
      "cell_type": "code",
      "source": [
        "from re import RegexFlag\n",
        "#Write a dummy program that can perform login and registration using a menu driven program\n",
        "\n",
        "uid = \"ka\"\n",
        "pswd = \"as\"\n",
        "user = input(\"enter user id: \")\n",
        "ps = input(\"enter pswd: \")\n",
        "\n",
        "reg = list()\n",
        "\n",
        "\n",
        "if uid == user and pswd == ps :\n",
        "  while True :\n",
        "    print(\"welcomr To your Account\")\n",
        "    name = input(\"enter name : \")\n",
        "    course = input(\"enter course: \")\n",
        "    location = input(\"enter location: \")\n",
        "    reg.append(name)\n",
        "    reg.append(course)\n",
        "    reg.append(location)\n",
        "\n",
        "\n",
        "    break\n",
        "  print(reg)\n",
        "\n",
        "\n",
        "\n",
        "else :\n",
        "  print(\"enter valid id paswd\")\n",
        "\n",
        "\n",
        "\n",
        "\n",
        "\n",
        "\n",
        "\n",
        "\n",
        "\n"
      ],
      "metadata": {
        "colab": {
          "base_uri": "https://localhost:8080/"
        },
        "id": "TENUZ4_wvM1B",
        "outputId": "3134bb00-b6c9-432e-ddc8-d929de795ea7"
      },
      "execution_count": null,
      "outputs": [
        {
          "output_type": "stream",
          "name": "stdout",
          "text": [
            "enter user id: gf\n",
            "enter pswd: sd\n",
            "enter valid id paswd\n"
          ]
        }
      ]
    },
    {
      "cell_type": "code",
      "source": [
        "#Write a program that accepts neighbors(set of 2D co-ordinates) and a point(single 2D co-ordinate) and tells nearest neighbor(in terms of euclidean distance)\n",
        "n1 = 2\n",
        "n2 = 2\n",
        "n3 = 2\n",
        "co1 = tuple()\n",
        "co2 = tuple()\n",
        "co4 = tuple()\n"
      ],
      "metadata": {
        "id": "a4k_5UHKGGxD"
      },
      "execution_count": null,
      "outputs": []
    },
    {
      "cell_type": "code",
      "source": [
        "for i in range(n1) :\n",
        "  num = int(input(\"enter num : \"))\n",
        "  co1 = co1 + (num,)\n",
        "print(co1)"
      ],
      "metadata": {
        "colab": {
          "base_uri": "https://localhost:8080/"
        },
        "id": "kp9yM0F8buh2",
        "outputId": "1aadf837-61b3-4b78-f45d-568ffc9af419"
      },
      "execution_count": null,
      "outputs": [
        {
          "output_type": "stream",
          "name": "stdout",
          "text": [
            "enter num : 13\n",
            "enter num : 10\n",
            "(13, 10)\n"
          ]
        }
      ]
    },
    {
      "cell_type": "code",
      "source": [
        "for e in range(n2) :\n",
        "  num1 = int(input(\"enter num : \"))\n",
        "  co2 = co2 + (num1,)\n",
        "print(co2)"
      ],
      "metadata": {
        "colab": {
          "base_uri": "https://localhost:8080/"
        },
        "id": "4wXx2TYZZq3h",
        "outputId": "599e13f6-e6d4-4210-83c8-54d227cac735"
      },
      "execution_count": null,
      "outputs": [
        {
          "output_type": "stream",
          "name": "stdout",
          "text": [
            "enter num : 15\n",
            "enter num : 21\n",
            "(15, 21)\n"
          ]
        }
      ]
    },
    {
      "cell_type": "code",
      "source": [
        "for w in range(n3) :\n",
        "  num3 = int(input(\"enter num : \"))\n",
        "  co4 = co4 + (num3,)\n",
        "print(co4)\n"
      ],
      "metadata": {
        "colab": {
          "base_uri": "https://localhost:8080/"
        },
        "id": "_5lN3v2BZr3H",
        "outputId": "11653ba6-c27a-477b-9c9c-d861b3839d26"
      },
      "execution_count": null,
      "outputs": [
        {
          "output_type": "stream",
          "name": "stdout",
          "text": [
            "enter num : 19\n",
            "enter num : 22\n",
            "(19, 22)\n"
          ]
        }
      ]
    },
    {
      "cell_type": "code",
      "source": [
        "import numpy as np\n",
        "q = np.array(co1)\n",
        "w = np.array(co2)\n",
        "a = np.array(co4)\n",
        "\n",
        "print(q , w , a)\n",
        "d1 = np.linalg.norm(q - a)\n",
        "d2 = np.linalg.norm(w - a)\n",
        "if d1 < d2 :\n",
        "  print( d1 , \"co1 is near\")\n",
        "else :\n",
        "  print(d2 , \"co2 is near\")"
      ],
      "metadata": {
        "colab": {
          "base_uri": "https://localhost:8080/"
        },
        "id": "mW60f_4ta-Hc",
        "outputId": "aa65fde1-6340-4a51-e3cb-b60a56d744dc"
      },
      "execution_count": null,
      "outputs": [
        {
          "output_type": "stream",
          "name": "stdout",
          "text": [
            "[13 10] [15 21] [19 22]\n",
            "4.123105625617661 co2 is near\n"
          ]
        }
      ]
    },
    {
      "cell_type": "code",
      "source": [
        "arr1 = np.array([[1,2,3],[4,5,6],[7,8,9]])\n",
        "np.shape(arr1)\n"
      ],
      "metadata": {
        "colab": {
          "base_uri": "https://localhost:8080/"
        },
        "id": "JBRlmrq4how-",
        "outputId": "26ebfeae-8c1e-4b0a-c5b2-8771c9b4c693"
      },
      "execution_count": null,
      "outputs": [
        {
          "output_type": "execute_result",
          "data": {
            "text/plain": [
              "(3, 3)"
            ]
          },
          "metadata": {},
          "execution_count": 84
        }
      ]
    },
    {
      "cell_type": "code",
      "source": [
        "#finding maximum element in 2D array\n",
        "maxe = 0\n",
        "for i in range(len(arr1)) :\n",
        "  for j in range(len(arr1[i])) :\n",
        "    if arr1[i][j] > maxe :\n",
        "      maxe = arr1[i][j]\n",
        "\n",
        "\n",
        "print(maxe)"
      ],
      "metadata": {
        "colab": {
          "base_uri": "https://localhost:8080/"
        },
        "id": "vutYOmmP7jmL",
        "outputId": "b01a8762-2a93-449a-dec8-3f0a429e3d25"
      },
      "execution_count": null,
      "outputs": [
        {
          "output_type": "stream",
          "name": "stdout",
          "text": [
            "9\n"
          ]
        }
      ]
    },
    {
      "cell_type": "code",
      "source": [
        "print(arr1)"
      ],
      "metadata": {
        "colab": {
          "base_uri": "https://localhost:8080/"
        },
        "id": "7WaNlf0IvOjU",
        "outputId": "81ee0ae0-a13c-4d40-acd9-88abfe499848"
      },
      "execution_count": null,
      "outputs": [
        {
          "output_type": "stream",
          "name": "stdout",
          "text": [
            "[[1 2 3]\n",
            " [4 5 6]\n",
            " [7 8 9]]\n"
          ]
        }
      ]
    },
    {
      "cell_type": "code",
      "source": [
        "w = [[1,2,3],[22,45,67],[1 ,0, 100],[8 , 9 , 1]]\n",
        "e = list()\n",
        "for i in w :\n",
        "  e.append(max(i))\n",
        "\n",
        "print(e)\n"
      ],
      "metadata": {
        "colab": {
          "base_uri": "https://localhost:8080/"
        },
        "id": "Du-WPqYlvQpk",
        "outputId": "1de43cf2-1a5d-4ae8-f124-99249e7a5bb0"
      },
      "execution_count": null,
      "outputs": [
        {
          "output_type": "stream",
          "name": "stdout",
          "text": [
            "[3, 67, 100, 9]\n"
          ]
        }
      ]
    },
    {
      "cell_type": "code",
      "source": [
        "w[0][1]"
      ],
      "metadata": {
        "colab": {
          "base_uri": "https://localhost:8080/"
        },
        "id": "OnLH0u5m3mGa",
        "outputId": "80c15069-d927-45e9-85fb-8ee32616d193"
      },
      "execution_count": null,
      "outputs": [
        {
          "output_type": "execute_result",
          "data": {
            "text/plain": [
              "2"
            ]
          },
          "metadata": {},
          "execution_count": 76
        }
      ]
    },
    {
      "cell_type": "code",
      "source": [],
      "metadata": {
        "id": "vu5vDt4u7aej"
      },
      "execution_count": null,
      "outputs": []
    }
  ]
}