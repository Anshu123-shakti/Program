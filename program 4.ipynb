{
  "nbformat": 4,
  "nbformat_minor": 0,
  "metadata": {
    "colab": {
      "provenance": []
    },
    "kernelspec": {
      "name": "python3",
      "display_name": "Python 3"
    },
    "language_info": {
      "name": "python"
    }
  },
  "cells": [
    {
      "cell_type": "markdown",
      "source": [
        " Discount Calculator  \n",
        "Write a program that takes the price of a product as input.  \n",
        "If the price is greater than ₹500, apply a 10% discount; otherwise, apply a 5% discount. Display\n",
        "the final price.  "
      ],
      "metadata": {
        "id": "-cZIwWilhYkq"
      }
    },
    {
      "cell_type": "code",
      "execution_count": null,
      "metadata": {
        "colab": {
          "base_uri": "https://localhost:8080/"
        },
        "id": "c5hz2w5lhWhg",
        "outputId": "21f1c3db-2223-43b5-850b-82f2dfb5ccd0"
      },
      "outputs": [
        {
          "output_type": "stream",
          "name": "stdout",
          "text": [
            "enter price of product: 400\n",
            "final price when product is less than 500 380.0\n"
          ]
        }
      ],
      "source": [
        "pr = int(input(\"enter price of product: \"))\n",
        "if pr >= 500 :\n",
        "  fpr1 = pr - (pr*0.1)\n",
        "  print(\"final price when product is above 500\" , fpr1)\n",
        "else :\n",
        "  fpr1 = pr - (pr*0.05)\n",
        "  print(\"final price when product is less than 500\" , fpr1)"
      ]
    },
    {
      "cell_type": "markdown",
      "source": [
        "Odd or Even  \n",
        "Take the user's age as input.  \n",
        "If the age is 18 or above, display \"Eligible to drive\"; otherwise, display \"Not eligible to drive.\""
      ],
      "metadata": {
        "id": "j4CkYLvEi37-"
      }
    },
    {
      "cell_type": "code",
      "source": [
        "age = int(input(\"enter your age: \"))\n",
        "if age >= 18 :\n",
        "  print(age , \"your are eligible for voting\")\n",
        "else :\n",
        "  print(age , \"you are not eligible for voting\")"
      ],
      "metadata": {
        "colab": {
          "base_uri": "https://localhost:8080/"
        },
        "id": "3bCqExi_i46P",
        "outputId": "d851fe87-9863-4378-c5bb-af84548188a3"
      },
      "execution_count": null,
      "outputs": [
        {
          "output_type": "stream",
          "name": "stdout",
          "text": [
            "enter your age: 44\n",
            "44 your are eligible for voting\n"
          ]
        }
      ]
    },
    {
      "cell_type": "markdown",
      "source": [
        "Driving Eligibility  \n",
        "Take the user's age as input.  \n",
        "If the age is 18 or above, display \"Eligible to drive\"; otherwise, display \"Not eligible to drive.\""
      ],
      "metadata": {
        "id": "Wu1YrLu7j7GO"
      }
    },
    {
      "cell_type": "code",
      "source": [
        "age = int(input(\"enter your age: \"))\n",
        "if age >= 18 :\n",
        "  print(age , \"eligible to drive\")\n",
        "else :\n",
        "  print(age,\"not eligible to drive\")"
      ],
      "metadata": {
        "colab": {
          "base_uri": "https://localhost:8080/"
        },
        "id": "lSkPX7AKj_CR",
        "outputId": "3417387e-4884-4676-a297-d1901ef6fa0b"
      },
      "execution_count": null,
      "outputs": [
        {
          "output_type": "stream",
          "name": "stdout",
          "text": [
            "enter your age: 33\n",
            "33 eligible to drive\n"
          ]
        }
      ]
    },
    {
      "cell_type": "markdown",
      "source": [
        "Store Timing  \n",
        "Write a program that asks the current time (24-hour format).  \n",
        "If the time is between 9 AM and 9 PM, print \"Store is open\"; otherwise, print \"Store is closed.\""
      ],
      "metadata": {
        "id": "rjfGmKcqkdt2"
      }
    },
    {
      "cell_type": "code",
      "source": [
        "ti = int(input(\"enter time in 24 hour format: \"))\n",
        "if ti in range(9 , 22):\n",
        "  print(\"shop is open\" , ti)\n",
        "else :\n",
        "  print(\"shop is closed\" , ti)"
      ],
      "metadata": {
        "colab": {
          "base_uri": "https://localhost:8080/"
        },
        "id": "m1D-2vKckZEv",
        "outputId": "35775c4c-a2b7-432b-bc29-6227e1c33f9a"
      },
      "execution_count": null,
      "outputs": [
        {
          "output_type": "stream",
          "name": "stdout",
          "text": [
            "enter time in 24 hour format: 12\n",
            "shop is open 12\n"
          ]
        }
      ]
    },
    {
      "cell_type": "markdown",
      "source": [
        "Pass or Fail  \n",
        "Take the user's marks as input.  \n",
        "If the marks are 40 or above, print \"Pass\"; otherwise, print \"Fail.\""
      ],
      "metadata": {
        "id": "vj3QFo3inVDW"
      }
    },
    {
      "cell_type": "code",
      "source": [
        "mrk = int(input(\"enter your marks: \"))\n",
        "if mrk >= 40 :\n",
        "  print(\"pass\" , mrk)\n",
        "else :\n",
        "  print(\"fail\" , mrk)"
      ],
      "metadata": {
        "colab": {
          "base_uri": "https://localhost:8080/"
        },
        "id": "Ujw_CwybnYCf",
        "outputId": "7a13377d-fd0c-403e-9dd7-fb2805b61a4d"
      },
      "execution_count": null,
      "outputs": [
        {
          "output_type": "stream",
          "name": "stdout",
          "text": [
            "enter your marks: 22\n",
            "fail 22\n"
          ]
        }
      ]
    },
    {
      "cell_type": "markdown",
      "source": [
        "Prime Membership  \n",
        "Write a program that asks if the user has a Prime membership.  \n",
        "If the user enters \"yes,\" offer free delivery; otherwise, charge ₹50 for delivery."
      ],
      "metadata": {
        "id": "wKplElOtn0F_"
      }
    },
    {
      "cell_type": "code",
      "source": [
        "print(\"Do you have prime membership? y for yes and n for no\")\n",
        "n = input(\"do you have prime membership?: \")\n",
        "if n == \"y\" or n == \"Y\" :\n",
        "  print(\"Free delivery avialble\")\n",
        "else :\n",
        "  print(\"you will be charged Rs 50 for delivery\")"
      ],
      "metadata": {
        "colab": {
          "base_uri": "https://localhost:8080/"
        },
        "id": "S20cWFXxnxPY",
        "outputId": "921fc510-132b-49ba-e06f-ec89cc4f8336"
      },
      "execution_count": null,
      "outputs": [
        {
          "output_type": "stream",
          "name": "stdout",
          "text": [
            "Do you have prime membership? y for yes and n for no\n",
            "do you have prime membership?: Y\n",
            "Free delivery avialble\n"
          ]
        }
      ]
    },
    {
      "cell_type": "markdown",
      "source": [
        " Leap Year Checker  \n",
        "Take a year as input.  \n",
        "Check if it is a leap year or not using an if-else statement."
      ],
      "metadata": {
        "id": "tbJX9AdoNKEp"
      }
    },
    {
      "cell_type": "code",
      "source": [
        "yr = int(input(\"enter year for which you want check as leap year: \"))\n",
        "if yr % 4 == 0 :\n",
        "  print(\"it is a leap year\")\n",
        "else :\n",
        "  print(\"it is not a leap year\")"
      ],
      "metadata": {
        "colab": {
          "base_uri": "https://localhost:8080/"
        },
        "id": "FhWEPiI7NJYD",
        "outputId": "aa292f6d-bc3c-4ad9-de55-00db49ce00b2"
      },
      "execution_count": null,
      "outputs": [
        {
          "output_type": "stream",
          "name": "stdout",
          "text": [
            "enter year for which you want check as leap year: 2024\n",
            "it is a leap year\n"
          ]
        }
      ]
    },
    {
      "cell_type": "markdown",
      "source": [
        "Temperature Alert  \n",
        "Take the current temperature as input.  \n",
        "If the temperature is above 40°C, display \"Heat Alert\"; if it’s below 0°C, display \"Cold Alert\";\n",
        "otherwise, display \"Normal Weather.\""
      ],
      "metadata": {
        "id": "tPgs0zvQN24D"
      }
    },
    {
      "cell_type": "code",
      "source": [
        "temp = int(input(\"enter current temperature in celcius: \"))\n",
        "if temp >= 40 :\n",
        "  print(\"heat alert\")\n",
        "elif temp < 0 :\n",
        "  print(\"cold alert\")\n",
        "else :\n",
        "  print(\"normal weather\")"
      ],
      "metadata": {
        "colab": {
          "base_uri": "https://localhost:8080/"
        },
        "id": "IdQG2RgrNxtj",
        "outputId": "b006222c-5bba-4cab-a2c0-ccbeaccd6b94"
      },
      "execution_count": null,
      "outputs": [
        {
          "output_type": "stream",
          "name": "stdout",
          "text": [
            "enter current temperature in celcius: 33\n",
            "normal weather\n"
          ]
        }
      ]
    },
    {
      "cell_type": "markdown",
      "source": [
        "Grade Calculator  \n",
        "Ask the user for their percentage marks.  \n",
        "Use if-else statements to print the grade based on the following:  \n",
        "90% and above: A+  \n",
        "80%–89%: A  \n",
        "70%–79%: B  \n",
        "Below 70%: C  "
      ],
      "metadata": {
        "id": "bFqiUTMBOqKT"
      }
    },
    {
      "cell_type": "code",
      "source": [
        "mrk = int(input(\"enter marks percentage: \"))\n",
        "if mrk >= 90 :\n",
        "  print(\"Grade - A+\")\n",
        "elif mrk >= 80 :\n",
        "  print(\"grade - A\")\n",
        "elif mrk >= 70 :\n",
        "  print(\"Grade B\")\n",
        "else :\n",
        "  print(\"Grade C\")"
      ],
      "metadata": {
        "colab": {
          "base_uri": "https://localhost:8080/"
        },
        "id": "i2v_sUTTOixG",
        "outputId": "75cf65c9-b6e4-4255-cb0a-06de402bbc97"
      },
      "execution_count": null,
      "outputs": [
        {
          "output_type": "stream",
          "name": "stdout",
          "text": [
            "enter marks percentage: 90\n",
            "Grade - A+\n"
          ]
        }
      ]
    },
    {
      "cell_type": "markdown",
      "source": [
        "Take the balance in a bank account and the amount the user wants to withdraw as input. If\n",
        "the withdrawal amount is less than or equal to the balance, print \"Withdrawal successful\";\n",
        "otherwise, print \"Insufficient balance.\"  \n"
      ],
      "metadata": {
        "id": "nyRvVW84Pjq0"
      }
    },
    {
      "cell_type": "code",
      "source": [
        "bal =int(input(\"enter your balance: \"))\n",
        "w = int(input(\"enter anount you want to withdraw: \"))\n",
        "if w <= bal :\n",
        "  print(\"withdrawal successful\")\n",
        "else :\n",
        "  print(\"insufficient balance\")"
      ],
      "metadata": {
        "colab": {
          "base_uri": "https://localhost:8080/"
        },
        "id": "7nyDqjdnPqMW",
        "outputId": "1898d5e7-1c06-472a-825e-6db0a9db5dee"
      },
      "execution_count": null,
      "outputs": [
        {
          "output_type": "stream",
          "name": "stdout",
          "text": [
            "enter your balance: 1000\n",
            "enter anount you want to withdraw: 20000\n",
            "insufficient balance\n"
          ]
        }
      ]
    },
    {
      "cell_type": "markdown",
      "source": [
        "Ask the user to input two numbers.  \n",
        "Print whether the first number is greater, smaller, or equal to the second number.\n"
      ],
      "metadata": {
        "id": "-1nOLhYuRDiN"
      }
    },
    {
      "cell_type": "code",
      "source": [
        "n1 = int(input(\"number1: \"))\n",
        "n2 = int(input(\"number2: \"))\n",
        "if n1 > n2 :\n",
        "  print(\"n1 is greater\")\n",
        "elif n1 == n2 :\n",
        "  print(\"both are equal\")\n",
        "else :\n",
        "  print(\"n1 is smaller than n2\")"
      ],
      "metadata": {
        "colab": {
          "base_uri": "https://localhost:8080/"
        },
        "id": "CScqyMgXREmC",
        "outputId": "7b59741e-d4b8-459c-cec2-6813a7a051d3"
      },
      "execution_count": null,
      "outputs": [
        {
          "output_type": "stream",
          "name": "stdout",
          "text": [
            "number1: 10\n",
            "number2: 12\n",
            "n1 is smaller than n2\n"
          ]
        }
      ]
    },
    {
      "cell_type": "markdown",
      "source": [
        "Ask the user to input a password.  \n",
        "If it matches a predefined password (e.g., \"secure123\"), print \"Access granted\"; otherwise, print\n",
        "\"Access denied.\""
      ],
      "metadata": {
        "id": "QgVf9xtpR1Wv"
      }
    },
    {
      "cell_type": "code",
      "source": [
        "ps1 = \"secure123\"\n",
        "ps2 = input(\"enter your password: \")\n",
        "if ps2 == ps1 :\n",
        "  print(\"access granted\")\n",
        "else :\n",
        "  print(\"access denied\")"
      ],
      "metadata": {
        "colab": {
          "base_uri": "https://localhost:8080/"
        },
        "id": "IsAJh6V8R4P7",
        "outputId": "2e88640b-4008-4f10-8359-3c465d1eb4c8"
      },
      "execution_count": null,
      "outputs": [
        {
          "output_type": "stream",
          "name": "stdout",
          "text": [
            "enter your password: secure123\n",
            "access granted\n"
          ]
        }
      ]
    },
    {
      "cell_type": "markdown",
      "source": [
        "If the current time is between 6 PM and 9 PM, apply a 20% discount on the product price\n",
        "entered by the user. Otherwise, no discount is applied."
      ],
      "metadata": {
        "id": "PPxty7cwSjof"
      }
    },
    {
      "cell_type": "code",
      "source": [
        "from datetime import datetime\n",
        "\n",
        "# Get the current date and time\n",
        "c = datetime.now()\n",
        "\n",
        "# Extract and print the time component\n",
        "current_time = c.strftime(\"%H:%M:%S\")\n",
        "print(f\"Current Time: {current_time}\")\n",
        "\n"
      ],
      "metadata": {
        "colab": {
          "base_uri": "https://localhost:8080/"
        },
        "id": "j_Pf6ptUSqoE",
        "outputId": "35bfb405-8ffb-4567-e918-51f47bdb6f4e"
      },
      "execution_count": null,
      "outputs": [
        {
          "output_type": "stream",
          "name": "stdout",
          "text": [
            "Current Time: 12:56:47\n"
          ]
        }
      ]
    },
    {
      "cell_type": "code",
      "source": [
        "p = int(input(\"enter price of product: \"))\n",
        "if c in range(18 , 22) :\n",
        "  p = p - (p*0.2)\n",
        "  print(p , \"discount applied\")\n",
        "else :\n",
        "  print(p , \"no discount available\")\n"
      ],
      "metadata": {
        "colab": {
          "base_uri": "https://localhost:8080/"
        },
        "id": "jQpphD2mTi0Z",
        "outputId": "be048dde-133d-4162-934a-de70c834149f"
      },
      "execution_count": null,
      "outputs": [
        {
          "output_type": "stream",
          "name": "stdout",
          "text": [
            "enter price of product: 79\n",
            "79 no discount available\n"
          ]
        }
      ]
    },
    {
      "cell_type": "markdown",
      "source": [
        "Take the user's citizenship (\"Indian\" or \"Other\") and age as input.  \n",
        "If the user is Indian and 18 or above, print \"Eligible to vote\"; otherwise, print \"Not eligible to\n",
        "vote.\""
      ],
      "metadata": {
        "id": "bzHwhIK7dkrU"
      }
    },
    {
      "cell_type": "code",
      "source": [
        "print(\"are you indian?\")\n",
        "c = input(\"enter y for yes and n for no: \")\n",
        "age = int(input(\"enter age: \"))\n",
        "if c == \"y\" or c == \"Y\" :\n",
        "  if age >= 18 :\n",
        "\n",
        "   print(\"eligible to vote\")\n",
        "  else :\n",
        "    print(\"Not eligible\")\n",
        "\n",
        "\n",
        "\n"
      ],
      "metadata": {
        "colab": {
          "base_uri": "https://localhost:8080/"
        },
        "id": "alsHtJI_dkQH",
        "outputId": "02045732-4728-442d-b2a3-a9cc616c0feb"
      },
      "execution_count": null,
      "outputs": [
        {
          "output_type": "stream",
          "name": "stdout",
          "text": [
            "are you indian?\n",
            "enter y for yes and n for no: y\n",
            "enter age: 12\n",
            "Not eligible\n"
          ]
        }
      ]
    },
    {
      "cell_type": "markdown",
      "source": [
        "Ask the user for the number of people in a group.  \n",
        "If it’s greater than 5, apply a 15% service charge on the total bill amount entered by the user.  "
      ],
      "metadata": {
        "id": "3F-Lh_M7gf9B"
      }
    },
    {
      "cell_type": "code",
      "source": [
        "g = int(input(\"enter total number of people: \"))\n",
        "bill = int(input(\"enter total bill: \"))\n",
        "if g >= 5 :\n",
        "  bill = bill + (bill*0.15)\n",
        "  print(bill , \"your final bill\")\n",
        "else :\n",
        "  print(bill , \"your bill\")\n"
      ],
      "metadata": {
        "colab": {
          "base_uri": "https://localhost:8080/"
        },
        "id": "qPFuJbUtggwd",
        "outputId": "a26463f4-be41-426e-ff7f-b8624d190f50"
      },
      "execution_count": null,
      "outputs": [
        {
          "output_type": "stream",
          "name": "stdout",
          "text": [
            "enter total number of people: 3\n",
            "enter total bill: 789\n",
            "789 your bill\n"
          ]
        }
      ]
    },
    {
      "cell_type": "markdown",
      "source": [
        "Ask for the user's delivery location (as \"urban\" or \"rural\").  \n",
        "If the location is urban, display \"Delivery available\"; otherwise, display \"Delivery not available.\""
      ],
      "metadata": {
        "id": "-RZwJJx3hjfw"
      }
    },
    {
      "cell_type": "code",
      "source": [
        "print(\"Your location is Urban or rural? Type u for urban and r for rural\")\n",
        "loc = input(\"enter your location: \")\n",
        "if loc == \"u\" or loc == \"U\" :\n",
        "  print(\"delivery available\")\n",
        "else :\n",
        "  print(\"delivery not available\")"
      ],
      "metadata": {
        "colab": {
          "base_uri": "https://localhost:8080/"
        },
        "id": "8hAW9TaShfzG",
        "outputId": "fad617dd-bfd6-438f-851b-b68a22a0822e"
      },
      "execution_count": null,
      "outputs": [
        {
          "output_type": "stream",
          "name": "stdout",
          "text": [
            "Your location is Urban or rural? Type u for urban and r for rural\n",
            "enter your location: h\n",
            "delivery not available\n"
          ]
        }
      ]
    },
    {
      "cell_type": "markdown",
      "source": [
        "Take the user’s weight (in kg) and height (in meters) as input and calculate their BMI.\n",
        "If BMI < 18.5, display \"Underweight\"; 18.5–24.9, display \"Normal\"; otherwise, display\n",
        "\"Overweight.\"  "
      ],
      "metadata": {
        "id": "MJ6WBLV0i09f"
      }
    },
    {
      "cell_type": "code",
      "source": [
        "w = int(input(\"enter weight in kg: \"))\n",
        "h = float(input(\"enter height in meters: \"))\n",
        "bmi = w/(h**2)\n",
        "print(bmi)\n",
        "if bmi <= 18.5 :\n",
        "  print(\"underweight\")\n",
        "elif 18.6 < bmi < 24.9 :\n",
        "  print(\"normal\")\n",
        "else :\n",
        "  print(\"overweight\")"
      ],
      "metadata": {
        "id": "Y7zUW4AQi5iB",
        "colab": {
          "base_uri": "https://localhost:8080/"
        },
        "outputId": "5799e3f5-ea82-43c8-f16e-a4835928a528"
      },
      "execution_count": null,
      "outputs": [
        {
          "output_type": "stream",
          "name": "stdout",
          "text": [
            "enter weight in kg: 50\n",
            "enter height in meters: 1.6\n",
            "19.531249999999996\n",
            "normal\n"
          ]
        }
      ]
    },
    {
      "cell_type": "markdown",
      "source": [
        "Ask the user to input a day of the week.  \n",
        "If it’s Saturday or Sunday, print \"Weekend\"; otherwise, print \"Weekday.\"\n"
      ],
      "metadata": {
        "id": "gIKWS5P5qW9J"
      }
    },
    {
      "cell_type": "code",
      "source": [
        "\n",
        "n = 7\n",
        "for i in range(1 , n + 1) :\n",
        "  print(\"choose from list\")\n",
        "  print(\"mon\")\n",
        "  print(\"tue\")\n",
        "  print(\"wed\")\n",
        "  print(\"thur\")\n",
        "  print(\"fri\")\n",
        "  print(\"sat\")\n",
        "  print(\"sun\")\n",
        "  break\n",
        "\n",
        "print(\"enter ur choice\")\n",
        "day = input(\"Day: \")\n",
        "\n",
        "if day == \"sat\" or day == \"sun\" :\n",
        "  print(\"Weekend\")\n",
        "else :\n",
        "  print(\"Weekdays\")\n",
        "\n",
        "\n"
      ],
      "metadata": {
        "colab": {
          "base_uri": "https://localhost:8080/"
        },
        "id": "3wmQvt-kqYbh",
        "outputId": "ffa09a24-0f0d-4b37-dec5-9422dd18360a"
      },
      "execution_count": null,
      "outputs": [
        {
          "output_type": "stream",
          "name": "stdout",
          "text": [
            "choose from list\n",
            "mon\n",
            "tue\n",
            "wed\n",
            "thur\n",
            "fri\n",
            "sat\n",
            "sun\n",
            "enter ur choice\n",
            "Day: thur\n",
            "Weekdays\n"
          ]
        }
      ]
    },
    {
      "cell_type": "markdown",
      "source": [
        "Take the age of a passenger as input.  \n",
        "If the passenger is below 12 or above 60, apply a 50% discount on the fare entered by the user;\n",
        "otherwise, charge the full fare."
      ],
      "metadata": {
        "id": "FFk71DkouEiS"
      }
    },
    {
      "cell_type": "code",
      "source": [
        "age = int(input(\"enter age: \"))\n",
        "fare = int(input(\"enter ticket fare: \"))\n",
        "if age >= 60  or age < 12 :\n",
        "  fare = fare - (fare*0.5)\n",
        "  print(\"your final fare\" , fare)\n",
        "else :\n",
        "  print(\"your final fare \" , fare)"
      ],
      "metadata": {
        "colab": {
          "base_uri": "https://localhost:8080/"
        },
        "id": "bNrudJQKuFop",
        "outputId": "ad474856-c871-4e41-f21e-4b8d3ce2e772"
      },
      "execution_count": null,
      "outputs": [
        {
          "output_type": "stream",
          "name": "stdout",
          "text": [
            "enter age: 30\n",
            "enter ticket fare: 800\n",
            "your final fare  800\n"
          ]
        }
      ]
    },
    {
      "cell_type": "markdown",
      "source": [
        "Ask the user for the number of electricity units consumed.  \n",
        "If units are:  \n",
        "Less than or equal to 100: Charge ₹5 per unit.  \n",
        "Between 101 and 300: Charge ₹10 per unit.  \n",
        "Above 300: Charge ₹15 per unit."
      ],
      "metadata": {
        "id": "yvdZ5TBdvfeh"
      }
    },
    {
      "cell_type": "code",
      "source": [
        "u = int(input(\"enter your unit consumed: \"))\n",
        "if u <= 100 :\n",
        "  u = u*5\n",
        "  print(\"your final bill\" , u )\n",
        "elif u in range(101 , 301) :\n",
        "  u = u*10\n",
        "  print(\"bill\" , u)\n",
        "else :\n",
        "  u = u*15\n",
        "  print(\"your bill\" , u)"
      ],
      "metadata": {
        "colab": {
          "base_uri": "https://localhost:8080/"
        },
        "id": "ytoD3AS4vepC",
        "outputId": "c905e55e-0c0a-4ed5-ad43-da4bfab7c9b2"
      },
      "execution_count": null,
      "outputs": [
        {
          "output_type": "stream",
          "name": "stdout",
          "text": [
            "enter your unit consumed: 400\n",
            "your bill 6000\n"
          ]
        }
      ]
    }
  ]
}