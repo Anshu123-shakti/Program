{
  "cells": [
    {
      "cell_type": "markdown",
      "metadata": {
        "id": "fnjv4DXQyOqe"
      },
      "source": [
        " Write a program to simulate an ATM that keeps asking the user for their PIN using a while loop.\n",
        "The loop should terminate once the correct PIN is entered, or after 3 incorrect attempts"
      ]
    },
    {
      "cell_type": "code",
      "execution_count": null,
      "metadata": {
        "colab": {
          "base_uri": "https://localhost:8080/"
        },
        "id": "yYTqUJMXM8Xh",
        "outputId": "253c3759-385e-4de1-fb4e-df777c3ef649"
      },
      "outputs": [
        {
          "name": "stdout",
          "output_type": "stream",
          "text": [
            "enter your 4 digit pin: 1011\n",
            "welcome\n"
          ]
        }
      ],
      "source": [
        "pin = 1011\n",
        "\n",
        "count = 1\n",
        "while count < 4  :\n",
        "  pi = int(input(\"enter your 4 digit pin: \"))\n",
        "  if pi == pin :\n",
        "    print(\"welcome\")\n",
        "    break\n",
        "\n",
        "  count += 1\n",
        "else :\n",
        "  print(\"incorrect pin\")\n",
        "\n",
        "\n",
        "\n",
        "\n",
        "\n",
        "\n",
        "\n",
        "\n",
        "\n",
        "\n",
        "\n",
        "\n",
        "\n",
        "\n",
        "\n",
        "\n"
      ]
    },
    {
      "cell_type": "markdown",
      "metadata": {
        "id": "RTC80G1im5_U"
      },
      "source": [
        " Write a program that takes a password as input and uses a while loop to ensure it meets the\n",
        "following criteria:\n",
        " At least 8 characters long\n",
        " Contains both letters and numbers\n",
        " Keep prompting the user until a valid password is entered"
      ]
    },
    {
      "cell_type": "code",
      "execution_count": null,
      "metadata": {
        "colab": {
          "base_uri": "https://localhost:8080/"
        },
        "id": "Zas5Wuv9m_z0",
        "outputId": "d2e6c5e7-a156-446c-b397-ca749e4789bd"
      },
      "outputs": [
        {
          "name": "stdout",
          "output_type": "stream",
          "text": [
            "enter ur passwd: q123456789\n",
            "False\n",
            "False\n",
            " enter charecter upto 8\n",
            "enter ur passwd: q1234567\n",
            "False\n",
            "False\n",
            "valid\n"
          ]
        }
      ],
      "source": [
        "\n",
        "\n",
        "while True :\n",
        "  p = input(\"enter ur passwd: \")\n",
        "  a = p.isalpha()\n",
        "  print(a)\n",
        "  b = p.isdigit()\n",
        "  print(b)\n",
        "\n",
        "  if len(p) < 8 or len(p) > 8 :\n",
        "    print(\" enter charecter upto 8\")\n",
        "  elif a == True or b == True :\n",
        "    print(\"invalid\")\n",
        "  else :\n",
        "    a == False and b == False\n",
        "    print(\"valid\")\n",
        "    break\n",
        "\n",
        "\n",
        "\n",
        "\n",
        "\n",
        "\n",
        "\n",
        "\n",
        "\n",
        "\n",
        "\n",
        "\n",
        "\n",
        "\n",
        "\n",
        "\n",
        "\n",
        "\n",
        "\n",
        "\n",
        "\n",
        "\n",
        "\n",
        "\n",
        "\n",
        "\n"
      ]
    },
    {
      "cell_type": "markdown",
      "metadata": {
        "id": "8aLPzdYj9jU8"
      },
      "source": [
        " A prepaid mobile plan expires after X days. Use a while loop to count down the days, displaying a\n",
        "reminder each day, until the plan expires. When the count reaches 0, display \"Plan Expired."
      ]
    },
    {
      "cell_type": "code",
      "execution_count": null,
      "metadata": {
        "colab": {
          "base_uri": "https://localhost:8080/"
        },
        "id": "tOUMHgor9kni",
        "outputId": "d90bd616-7c54-4f4f-ffc4-b357a3ed96a6"
      },
      "outputs": [
        {
          "name": "stdout",
          "output_type": "stream",
          "text": [
            "Remaining days are 30\n",
            "Remaining days are 29\n",
            "Remaining days are 28\n",
            "Remaining days are 27\n",
            "Remaining days are 26\n",
            "Remaining days are 25\n",
            "Remaining days are 24\n",
            "Remaining days are 23\n",
            "Remaining days are 22\n",
            "Remaining days are 21\n",
            "Remaining days are 20\n",
            "Remaining days are 19\n",
            "Remaining days are 18\n",
            "Remaining days are 17\n",
            "Remaining days are 16\n",
            "Remaining days are 15\n",
            "Remaining days are 14\n",
            "Remaining days are 13\n",
            "Remaining days are 12\n",
            "Remaining days are 11\n",
            "Remaining days are 10\n",
            "Remaining days are 9\n",
            "Remaining days are 8\n",
            "Remaining days are 7\n",
            "Remaining days are 6\n",
            "Remaining days are 5\n",
            "Remaining days are 4\n",
            "Remaining days are 3\n",
            "Remaining days are 2\n",
            "Remaining days are 1\n",
            "Plan expires\n"
          ]
        }
      ],
      "source": [
        "x = 0\n",
        "while x < 30 :\n",
        "  r = 30 - x\n",
        "  print(\"Remaining days are\" , r)\n",
        "  if x == 29 :\n",
        "    print(\"Plan expires\")\n",
        "  x += 1\n"
      ]
    },
    {
      "cell_type": "markdown",
      "metadata": {
        "id": "WJNQ5h9BDoNp"
      },
      "source": [
        "Write a program that continuously asks the user to input a valid email address using a while loop.\n",
        "If the input is invalid, display an error message and prompt again"
      ]
    },
    {
      "cell_type": "code",
      "execution_count": null,
      "metadata": {
        "colab": {
          "base_uri": "https://localhost:8080/"
        },
        "id": "QBK3XHwTDsvb",
        "outputId": "7696080d-572e-4bfa-db4f-b63b6c964ae2"
      },
      "outputs": [
        {
          "name": "stdout",
          "output_type": "stream",
          "text": [
            "enter valid email id: we\n",
            "invalid user id\n",
            "enter valid email id: as\n",
            "invalid user id\n",
            "enter valid email id: anshu@gmail.com\n",
            "Your welcome\n"
          ]
        }
      ],
      "source": [
        "e = \"anshu@gmail.com\"\n",
        "\n",
        "while True :\n",
        "  a  = input(\"enter valid email id: \")\n",
        "  if a != e :\n",
        "    print(\"invalid user id\")\n",
        "  else :\n",
        "    print(\"Your welcome\")\n",
        "    break\n"
      ]
    },
    {
      "cell_type": "markdown",
      "metadata": {
        "id": "FvYblx1uGWUE"
      },
      "source": [
        "Simulate loan repayment using a while loop. Start with a loan amount, subtract the monthly\n",
        "payment each iteration, and display the remaining balance. Exit the loop when the loan is fully\n",
        "repaid"
      ]
    },
    {
      "cell_type": "code",
      "execution_count": null,
      "metadata": {
        "colab": {
          "base_uri": "https://localhost:8080/"
        },
        "id": "Iy69Gi1JGZqR",
        "outputId": "23544e35-cbdb-4e94-fc94-5192e64b8f72"
      },
      "outputs": [
        {
          "name": "stdout",
          "output_type": "stream",
          "text": [
            "remaining Balance 11000\n",
            "remaining Balance 10000\n",
            "remaining Balance 9000\n",
            "remaining Balance 8000\n",
            "remaining Balance 7000\n",
            "remaining Balance 6000\n",
            "remaining Balance 5000\n",
            "remaining Balance 4000\n",
            "remaining Balance 3000\n",
            "remaining Balance 2000\n",
            "remaining Balance 1000\n",
            "remaining Balance 0\n",
            "loan is fully paid\n"
          ]
        }
      ],
      "source": [
        "\n",
        "p = 12000\n",
        "s = 1000\n",
        "while True :\n",
        "  p = p - s\n",
        "  print(\"remaining Balance\" , p)\n",
        "  if p == 0 :\n",
        "    print(\"loan is fully paid\")\n",
        "    break\n"
      ]
    },
    {
      "cell_type": "markdown",
      "metadata": {
        "id": "m0g2wUYGIAys"
      },
      "source": [
        "Create a simple quiz game where the program keeps asking questions (e.g., \"What is 5+3?\") using\n",
        "a while loop. Exit the loop if the user answers incorrectly or completes 5 questions correctly"
      ]
    },
    {
      "cell_type": "code",
      "execution_count": null,
      "metadata": {
        "colab": {
          "base_uri": "https://localhost:8080/"
        },
        "id": "CoJnqdqhIEci",
        "outputId": "2b9cf03a-bd9d-4302-e1bb-9c7d981b3edc"
      },
      "outputs": [
        {
          "output_type": "stream",
          "name": "stdout",
          "text": [
            " who is prime minister of india?\n",
            "enter your answer: narendra modi\n",
            "correct\n",
            "what is a milky way?\n",
            "enter your answer: galaxy\n",
            "correct\n",
            "which is the longest river in india\n",
            "enter your answer: b\n",
            "incorrect\n",
            "['narendra modi', 'galaxy', 'b']\n"
          ]
        }
      ],
      "source": [
        " q = [\" who is prime minister of india?\" , \"what is a milky way?\" , \"which is the longest river in india\", \"what is national animal of india?\" , \"what is the natural satellite of the earth\" , \"where easter ghat and wester ghat meet in india?\"]\n",
        " a = [\"narendra modi\" , \"galaxy\" , \"ganga\", \"tiger\",\"moon\", \"nilgiri hills\"]\n",
        " u = list()\n",
        " i = 0\n",
        "\n",
        " while i < len(q) :\n",
        "  print(q[i])\n",
        "  ans = input(\"enter your answer: \")\n",
        "  u.append(ans)\n",
        "  if (u[i] == a[i]) :\n",
        "    print(\"correct\")\n",
        "  else :\n",
        "    print(\"incorrect\")\n",
        "    break\n",
        "  i += 1\n",
        "print(u)\n",
        "\n",
        "\n",
        "\n",
        "\n",
        "\n",
        "\n",
        "\n",
        "\n",
        "\n",
        "\n",
        "\n",
        "\n",
        "\n",
        "\n",
        "\n",
        "\n",
        "\n",
        "\n",
        "\n",
        "\n",
        "\n",
        "\n",
        "\n",
        "\n",
        "\n",
        "\n",
        "\n",
        "\n",
        "\n",
        "\n",
        "\n"
      ]
    },
    {
      "cell_type": "markdown",
      "source": [
        "A freezer stops working if the temperature exceeds a threshold (e.g., -5°C). Use a while loop to\n",
        "simulate temperature readings every minute, and display a warning if the threshold is breached"
      ],
      "metadata": {
        "id": "_L9c_-YZEd2W"
      }
    },
    {
      "cell_type": "code",
      "source": [
        "t = 1\n",
        "while t < 61 :\n",
        "  temp = int(input(\"enter fridge temp: \"))\n",
        "  if temp <= -5 :\n",
        "    print(\"stopped working\")\n",
        "    break\n",
        "  i += 1\n"
      ],
      "metadata": {
        "colab": {
          "base_uri": "https://localhost:8080/"
        },
        "id": "QbRkAsoFEe4P",
        "outputId": "0be8b82b-a434-4a4c-c247-7f3ac2201d5e"
      },
      "execution_count": null,
      "outputs": [
        {
          "output_type": "stream",
          "name": "stdout",
          "text": [
            "enter fridge temp: 0\n",
            "enter fridge temp: -1\n",
            "enter fridge temp: -3\n",
            "enter fridge temp: -4\n",
            "enter fridge temp: -1\n",
            "enter fridge temp: -5\n",
            "stopped working\n"
          ]
        }
      ]
    },
    {
      "cell_type": "markdown",
      "source": [
        " Simulate a parking lot with 10 available spaces. Use a while loop to keep accepting car entries and\n",
        "decrement the space count. Stop the loop when no spaces are left."
      ],
      "metadata": {
        "id": "DJt2gBHUHF_o"
      }
    },
    {
      "cell_type": "code",
      "source": [
        "c = 0\n",
        "while c < 10 :\n",
        "\n",
        "  s = 10\n",
        "  a = s - c\n",
        "  print(\"available space\" , a)\n",
        "  c += 1"
      ],
      "metadata": {
        "colab": {
          "base_uri": "https://localhost:8080/"
        },
        "id": "dN0jWOSMHHHn",
        "outputId": "c94fb227-408d-46f1-c6f3-e79dd438762e"
      },
      "execution_count": null,
      "outputs": [
        {
          "output_type": "stream",
          "name": "stdout",
          "text": [
            "available space 10\n",
            "available space 9\n",
            "available space 8\n",
            "available space 7\n",
            "available space 6\n",
            "available space 5\n",
            "available space 4\n",
            "available space 3\n",
            "available space 2\n",
            "available space 1\n"
          ]
        }
      ]
    },
    {
      "cell_type": "markdown",
      "source": [
        "Write a program for a toll booth that keeps track of the number of vehicles passing through and\n",
        "stops collecting data when a user enters \"stop.\" Display the total number of vehicles."
      ],
      "metadata": {
        "id": "8gnjke3bI7EJ"
      }
    },
    {
      "cell_type": "code",
      "source": [
        "s = 0\n",
        "while True :\n",
        "  k = input(\"enter car , bike or stop: \")\n",
        "  if k == 'car'or k == \"bike\":\n",
        "    s += 1\n",
        "\n",
        "  else :\n",
        "    k == \"stop\"\n",
        "    print(s)\n",
        "    break\n"
      ],
      "metadata": {
        "colab": {
          "base_uri": "https://localhost:8080/"
        },
        "id": "jQYIu1cBI-fN",
        "outputId": "22538516-d29b-4673-db65-c260b1f5ac0c"
      },
      "execution_count": null,
      "outputs": [
        {
          "output_type": "stream",
          "name": "stdout",
          "text": [
            "enter car , bike or stop: car\n",
            "enter car , bike or stop: car\n",
            "enter car , bike or stop: bike\n",
            "enter car , bike or stop: bike\n",
            "enter car , bike or stop: bike\n",
            "enter car , bike or stop: car\n",
            "enter car , bike or stop: car\n",
            "enter car , bike or stop: bike\n",
            "enter car , bike or stop: car\n",
            "enter car , bike or stop: car\n",
            "enter car , bike or stop: car\n",
            "enter car , bike or stop: car\n",
            "enter car , bike or stop: bike\n",
            "enter car , bike or stop: bike\n",
            "enter car , bike or stop: bike\n",
            "enter car , bike or stop: stop\n",
            "15\n"
          ]
        }
      ]
    },
    {
      "cell_type": "markdown",
      "source": [
        "Simulate a shopping experience where the user has a limited budget. Keep allowing the user to\n",
        "purchase items (by entering their price) using a while loop, and exit the loop when their budget is\n",
        "exhausted"
      ],
      "metadata": {
        "id": "V53Bjh1iLQzv"
      }
    },
    {
      "cell_type": "code",
      "source": [
        "b = 1000\n",
        "i = 0\n",
        "while i < b :\n",
        "  price = int(input(\"enter ur product price: \"))\n",
        "  b = b - price\n",
        "  if b <= 0 :\n",
        "    print(\"budget exhausted\")\n",
        "    break\n"
      ],
      "metadata": {
        "colab": {
          "base_uri": "https://localhost:8080/"
        },
        "id": "_ym7sgcYLbtX",
        "outputId": "8dfd6284-18c4-47ae-a64b-d6a921580460"
      },
      "execution_count": null,
      "outputs": [
        {
          "output_type": "stream",
          "name": "stdout",
          "text": [
            "enter ur product price: 200\n",
            "enter ur product price: 200\n",
            "enter ur product price: 300\n",
            "enter ur product price: 500\n",
            "budget exhausted\n"
          ]
        }
      ]
    }
  ],
  "metadata": {
    "colab": {
      "provenance": []
    },
    "kernelspec": {
      "display_name": "Python 3",
      "name": "python3"
    },
    "language_info": {
      "name": "python"
    }
  },
  "nbformat": 4,
  "nbformat_minor": 0
}