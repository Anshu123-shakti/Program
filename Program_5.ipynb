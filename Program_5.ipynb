{
  "nbformat": 4,
  "nbformat_minor": 0,
  "metadata": {
    "colab": {
      "provenance": []
    },
    "kernelspec": {
      "name": "python3",
      "display_name": "Python 3"
    },
    "language_info": {
      "name": "python"
    }
  },
  "cells": [
    {
      "cell_type": "markdown",
      "source": [
        "Hospital Emergency Room Triage\n",
        "\n",
        "\n",
        "\n",
        "A hospital uses the following triage system for patients:\n",
        "If the patient’s temperature is above 102°F or they report severe pain, classify them as \"High\n",
        "Priority.\"\n",
        "If the temperature is between 99°F and 102°F or they report moderate pain, classify them as\n",
        "\"Medium Priority.\"\n",
        "Otherwise, classify them as \"Low Priority.\"\n",
        "Take the patient’s temperature and pain level (\"none,\" \"moderate,\" or \"severe\") as input, and\n",
        "display their priority.\n"
      ],
      "metadata": {
        "id": "kzQVDIxZBfz8"
      }
    },
    {
      "cell_type": "code",
      "execution_count": null,
      "metadata": {
        "colab": {
          "base_uri": "https://localhost:8080/"
        },
        "id": "xTbe6VkIBTR_",
        "outputId": "9bff84bf-43c9-463f-d923-30a65c6d97e6"
      },
      "outputs": [
        {
          "output_type": "stream",
          "name": "stdout",
          "text": [
            "enter your temperature in farenhite: 97\n",
            "Choose your body pain level from list\n",
            "severe pain\n",
            "moderate pain\n",
            "no pain\n",
            "enter your pain level: no pain\n",
            "low priority\n"
          ]
        }
      ],
      "source": [
        "temp = int(input(\"enter your temperature in farenhite: \"))\n",
        "\n",
        "\n",
        "print(\"Choose your body pain level from list\")\n",
        "print(\"severe pain\")\n",
        "print(\"moderate pain\")\n",
        "print(\"no pain\")\n",
        "\n",
        "p = input(\"enter your pain level: \")\n",
        "if temp > 102 or p == \"severe pain\" :\n",
        "  print(\"High priority\")\n",
        "elif 99 <= temp < 103 or p == \"moderate pain\":\n",
        "  print(\"medium priority\")\n",
        "else :\n",
        "  print(\"low priority\")\n"
      ]
    },
    {
      "cell_type": "markdown",
      "source": [
        "Shopping Cart Free Delivery\n",
        "A store provides free delivery under the following conditions:\n",
        "If the total cart value exceeds ₹2000.\n",
        "If the total cart value is between ₹1000 and ₹2000 but the user has a\n",
        "membership. Otherwise, the delivery fee is ₹100.\n",
        "Take the cart value and membership status (\"yes\" or \"no\") as input, and determine if the\n",
        "delivery is free or chargeable.\n"
      ],
      "metadata": {
        "id": "VpcySFpwHAwi"
      }
    },
    {
      "cell_type": "code",
      "source": [
        "n = int(input(\"enter your total cart amount: \"))\n",
        "print(type(n))\n",
        "print(\"Do you have prime member ship?\")\n",
        "print(\"yes\")\n",
        "print(\"no\")\n",
        "a = input(\"choose from above list: \")\n",
        "\n",
        "if n > 2000 :\n",
        "  print(\"eligible for free delivery\")\n",
        "elif 1000 < n < 2000 and a == \"yes\":\n",
        "  print(\"free delivery eligible\")\n",
        "else :\n",
        "  print(\"delivery fee is rs 100\")\n"
      ],
      "metadata": {
        "colab": {
          "base_uri": "https://localhost:8080/"
        },
        "id": "desctXsjHCDL",
        "outputId": "a6ab1206-67a2-4cb4-8b95-5afa1692b6c1"
      },
      "execution_count": null,
      "outputs": [
        {
          "output_type": "stream",
          "name": "stdout",
          "text": [
            "enter your total cart amount: 200\n",
            "<class 'int'>\n",
            "Do you have prime member ship?\n",
            "yes\n",
            "no\n",
            "choose from above list: no\n",
            "delivery fee is rs 100\n"
          ]
        }
      ]
    },
    {
      "cell_type": "markdown",
      "source": [
        "Library Fine System\n",
        "A library charges a fine for overdue books as follows:\n",
        "Up to 5 days overdue: ₹2 per day.\n",
        "6–10 days overdue: ₹5 per day.\n",
        "More than 10 days overdue: ₹10 per day"
      ],
      "metadata": {
        "id": "qiZM3sU9L00t"
      }
    },
    {
      "cell_type": "code",
      "source": [
        "from datetime import date"
      ],
      "metadata": {
        "id": "lcQzrfisL1vF"
      },
      "execution_count": null,
      "outputs": []
    },
    {
      "cell_type": "code",
      "source": [
        "y1 = int(input(\"borrowed year: \"))\n",
        "m1 = int(input(\"borrowed month: \"))\n",
        "d1 = int(input(\"borrowed day: \"))\n",
        "da1 = date(y1 , m1 , d1)\n",
        "print(da1)\n",
        "y2 = int(input(\"returned year: \"))\n",
        "m2 = int(input(\"returned  month: \"))\n",
        "d2 = int(input(\"returned  day: \"))\n",
        "da2 = date(y2 , m2 , d2)\n",
        "print(da2)\n",
        "diff = da2 - da1\n",
        "tdays = diff.days\n",
        "print(tdays)\n",
        "if tdays < 5 :\n",
        "  od = tdays*2\n",
        "  print(\"penalty\" , od)\n",
        "elif tdays in range(6 , 11) :\n",
        "  od = tdays*5\n",
        "  print(\"penalty.\" , od)\n",
        "else :\n",
        "  od = tdays*10\n",
        "  print(\"penalty..\" , od)"
      ],
      "metadata": {
        "colab": {
          "base_uri": "https://localhost:8080/"
        },
        "id": "PCpOW51pNpzD",
        "outputId": "765b1971-5057-4fca-e5ab-584864984a6b"
      },
      "execution_count": null,
      "outputs": [
        {
          "output_type": "stream",
          "name": "stdout",
          "text": [
            "borrowed year: 2025\n",
            "borrowed month: 4\n",
            "borrowed day: 4\n",
            "2025-04-04\n",
            "returned year: 2025\n",
            "returned  month: 4\n",
            "returned  day: 6\n",
            "2025-04-06\n",
            "2\n",
            "penalty 4\n"
          ]
        }
      ]
    },
    {
      "cell_type": "markdown",
      "source": [
        "Airport Luggage Check\n",
        "Airlines allow the following luggage limits:\n",
        "Economy Class: Up to 20 kg. Excess luggage is charged ₹200 per kg.\n",
        "Business Class: Up to 30 kg. Excess luggage is charged ₹150 per kg.\n",
        "First Class: Up to 40 kg. Excess luggage is charged ₹100 per kg.\n",
        "Take the class type (\"economy,\" \"business,\" or \"first\") and the luggage weight as input, and\n",
        "calculate the excess fee if applicable."
      ],
      "metadata": {
        "id": "jt6JSKcfT9Pl"
      }
    },
    {
      "cell_type": "code",
      "source": [
        "w = int(input(\"enter your luggage weight: \"))\n",
        "print(\"which class you brlong? Choose from the list: \")\n",
        "print(\"economy\")\n",
        "print(\"bussiness\")\n",
        "print(\"first\")\n",
        "c = input(\"enter your class: \")\n",
        "if c == \"economy\" and w > 20 :\n",
        "  we = w - 20\n",
        "  cwe = we*200\n",
        "  print(\"excess luggage charge is:\" , cwe)\n",
        "elif c == \"bussiness\" and w >30 :\n",
        "  wb = w - 30\n",
        "  cwb = wb*150\n",
        "  print(\"excess luggage charge iss:\" , cwb , )\n",
        "\n",
        "elif c == \"first\" and w > 40 :\n",
        "  wf = w - 40\n",
        "  cwf = wf*100\n",
        "  print(\"excessnluggahe charge iis :\" , cwf)\n",
        "\n",
        "else :\n",
        "  print(\"your luggage weight is:\" , w , \"your class is:\" , c)"
      ],
      "metadata": {
        "id": "jMyo1OE-T_LM",
        "colab": {
          "base_uri": "https://localhost:8080/"
        },
        "outputId": "91739133-a01c-4d88-d00e-adbad638bdf3"
      },
      "execution_count": null,
      "outputs": [
        {
          "output_type": "stream",
          "name": "stdout",
          "text": [
            "enter your luggage weight: 10\n",
            "which class you brlong? Choose from the list: \n",
            "economy\n",
            "bussiness\n",
            "first\n",
            "enter your class: economy\n",
            "your luggage weight is: 10 your class is: economy\n"
          ]
        }
      ]
    },
    {
      "cell_type": "markdown",
      "source": [
        "Hotel Room Pricing  \n",
        "A hotel offers discounts based on the type of customer and room type:  \n",
        "Regular customers get 10% off on all rooms.  \n",
        "Members get 20% off on deluxe rooms and 15% off on standard rooms.  \n",
        "VIP customers get 30% off on all rooms.  \n",
        "Take customer type (\"regular,\" \"member,\" or \"VIP\") and room type (\"standard\" or \"deluxe\") as\n",
        "input, and calculate the final price after applying the discount.  "
      ],
      "metadata": {
        "id": "UinhQtkAgce2"
      }
    },
    {
      "cell_type": "code",
      "source": [
        "print(\"choose your customer type from list\")\n",
        "print(\"regular\")\n",
        "print(\"member\")\n",
        "print(\"vip\")\n",
        "n = input(\"enter customer type: \")\n",
        "print(\"choose from room type:\")\n",
        "print(\"standard\")\n",
        "print(\"deluxe\")\n",
        "rn = input(\"enter room type: \")\n",
        "\n",
        "\n",
        "k = 2000\n",
        "if n == \"member\" :\n",
        "  if rn == \"standard\" :\n",
        "    d = k - (k*0.15)\n",
        "    print(\"final price for standard room\", d)\n",
        "  elif rn == \"deluxe\" :\n",
        "    d = k - (k*0.2)\n",
        "    print(\"final price for deluxe room\" , d)\n",
        "elif n == \"vip\" :\n",
        "  d = k - (k*0.3)\n",
        "  print(\"final price for vip customers\" , d)\n",
        "elif n == \"regular\" :\n",
        "  d = k - (k*0.1)\n",
        "  print(\"final price for regular customer\" , d)\n",
        "else :\n",
        "  print(\"you are a new customer\")\n",
        "\n",
        "\n",
        "\n",
        "\n"
      ],
      "metadata": {
        "colab": {
          "base_uri": "https://localhost:8080/"
        },
        "id": "6VpaVIqGgdlF",
        "outputId": "41c6d41f-f8b6-446e-e631-95c1a78614ca"
      },
      "execution_count": null,
      "outputs": [
        {
          "output_type": "stream",
          "name": "stdout",
          "text": [
            "choose your customer type from list\n",
            "regular\n",
            "member\n",
            "vip\n",
            "enter customer type: member\n",
            "choose from room type:\n",
            "standard\n",
            "deluxe\n",
            "enter room type: standard\n",
            "final price for standard room 1700.0\n"
          ]
        }
      ]
    },
    {
      "cell_type": "markdown",
      "source": [
        "Energy Consumption Billing  \n",
        "An electricity company charges based on energy consumption as follows:  \n",
        "For consumption up to 100 units, the rate is ₹5 per unit.  \n",
        "For consumption between 101 and 300 units, the rate is ₹10 per unit for additional\n",
        "units. For consumption above 300 units, the rate is ₹15 per unit for additional units.\n",
        "Take the total consumption as input and calculate the total bill."
      ],
      "metadata": {
        "id": "GxQTeIMo43Wk"
      }
    },
    {
      "cell_type": "code",
      "source": [
        "u = int(input(\"enter your total unit consumed: \"))\n",
        "if u == 100 :\n",
        "  r = u*5\n",
        "  print(\"your bill for\" , u , \"is\" , r)\n",
        "elif u in range(101 , 301) :\n",
        "  r = u*10\n",
        "  print(\"your bill for\" , u , \"is\" , r)\n",
        "else :\n",
        "  r = u*15\n",
        "  print(\"your bill for\" , u , \"is\" , r)\n"
      ],
      "metadata": {
        "colab": {
          "base_uri": "https://localhost:8080/"
        },
        "id": "vm4-vf4x48dL",
        "outputId": "bff53a18-bd6d-4d2f-8a71-1fe4ee87e079"
      },
      "execution_count": null,
      "outputs": [
        {
          "output_type": "stream",
          "name": "stdout",
          "text": [
            "enter your total unit consumed: 200\n",
            "your bill for 200 is 2000\n"
          ]
        }
      ]
    },
    {
      "cell_type": "markdown",
      "source": [
        "Ride Fare Calculation  \n",
        "A ride-sharing app charges based on the time of day and distance:  \n",
        "Daytime (6 AM to 10 PM): ₹15 per km.  \n",
        "Nighttime (10 PM to 6 AM): ₹20 per km.  \n",
        "If the distance is more than 20 km, apply a 10% discount on the total fare. Take\n",
        "the time (\"day\" or \"night\") and distance as input, and calculate the total fare."
      ],
      "metadata": {
        "id": "Kd9XSF2H8z6j"
      }
    },
    {
      "cell_type": "code",
      "source": [
        "dis = int(input(\"enter distance to travel: \"))\n",
        "print(\"chosse time from list:\")\n",
        "print(\"daytime\")\n",
        "print(\"nightime\")\n",
        "time = input(\"enter time you want to travel,: \")\n",
        "if time == \"daytime\" :\n",
        "  f = dis*15\n",
        "  print(\"daytime fare\" , f)\n",
        "else :\n",
        "  f = dis*20\n",
        "  print(\"nighttime fare\" , f)\n",
        "\n"
      ],
      "metadata": {
        "colab": {
          "base_uri": "https://localhost:8080/"
        },
        "id": "svmBP7Ne9M-5",
        "outputId": "c78f79da-4992-41ec-cdfb-a639ac20dbe6"
      },
      "execution_count": null,
      "outputs": [
        {
          "output_type": "stream",
          "name": "stdout",
          "text": [
            "enter distance to travel: 34\n",
            "chosse time from list:\n",
            "daytime\n",
            "nightime\n",
            "enter time you want to travel,: daytime\n",
            "daytime fare 510\n"
          ]
        }
      ]
    },
    {
      "cell_type": "markdown",
      "source": [
        "Event Entry Rules  \n",
        "For an event, the following entry rules apply:  \n",
        "Visitors under 12 or above 60 get free entry.  \n",
        "Students (12–25 years) with a valid ID get a 50% discount.  \n",
        "All other visitors must pay full price.  \n",
        "Take the age and student ID status (\"yes\" or \"no\") as input, and determine the entry fee.  "
      ],
      "metadata": {
        "id": "0crknfTGCPoV"
      }
    },
    {
      "cell_type": "code",
      "source": [
        "age = int(input(\"enter your age: \"))\n",
        "id = input(\"enter yes or no: \")\n",
        "fee = 500\n",
        "if age <= 12 or age > 60 :\n",
        "  print(\"you are eligible for free entry\")\n",
        "elif age in range(12 , 26) :\n",
        "  if id == \"yes\" :\n",
        "    fee = fee - (fee*0.5)\n",
        "\n",
        "\n",
        "  print(\"your fee is \" , fee)\n",
        "else :\n",
        "  print(\"your fee is\" , fee)"
      ],
      "metadata": {
        "colab": {
          "base_uri": "https://localhost:8080/"
        },
        "id": "zqSlyQmLCUbM",
        "outputId": "ce3e2e30-5f3f-4e82-86ca-785536f3da3c"
      },
      "execution_count": null,
      "outputs": [
        {
          "output_type": "stream",
          "name": "stdout",
          "text": [
            "enter your age: 11\n",
            "enter yes or no: no\n",
            "you are eligible for free entry\n"
          ]
        }
      ]
    },
    {
      "cell_type": "markdown",
      "source": [
        "Parking Lot Charges  \n",
        "A parking lot charges based on the type of vehicle:  \n",
        "Cars: ₹50 for the first hour, ₹20 for every additional hour.  \n",
        "Bikes: ₹20 for the first hour, ₹10 for every additional hour.  \n",
        "Take the type of vehicle (\"car\" or \"bike\") and the parking duration as input, and calculate the\n",
        "parking fee."
      ],
      "metadata": {
        "id": "jd2dNowMEgCu"
      }
    },
    {
      "cell_type": "code",
      "source": [
        "print(\"enter your vehicle type:\")\n",
        "print(\"car\")\n",
        "print(\"bike\")\n",
        "v = input(\"choose from above list: \")\n",
        "t = input(\"enter duration of parkeing: \")\n",
        "if v == \"car\" :\n",
        "  if int(t) == 1 :\n",
        "    ip = 50\n",
        "    print(\"your parking charge is\", ip)\n",
        "  else :\n",
        "    p = int(t) - 1\n",
        "    fp = p*20 + ip\n",
        "    print(\"your final charge is\" , fp)\n",
        "elif v == \"bike\" :\n",
        "  if int(t) == 1 :\n",
        "    ip = 20\n",
        "    print(\"your parking charge is\" , ip)\n",
        "  else :\n",
        "    p = int(t) - 1\n",
        "    fp = p*10 + ip\n",
        "    print(\"your parking charge for bike\" , fp)\n",
        "\n",
        "\n",
        "\n",
        "\n"
      ],
      "metadata": {
        "colab": {
          "base_uri": "https://localhost:8080/"
        },
        "id": "oIa9Rhe-Ek--",
        "outputId": "c09c0118-fa6b-4379-ea69-1f28cd053bfe"
      },
      "execution_count": null,
      "outputs": [
        {
          "output_type": "stream",
          "name": "stdout",
          "text": [
            "enter your vehicle type:\n",
            "car\n",
            "bike\n",
            "choose from above list: bike\n",
            "enter duration of parkeing: 8\n",
            "your parking charge for bike 90\n"
          ]
        }
      ]
    },
    {
      "cell_type": "markdown",
      "source": [
        " Real Estate Loan Eligibility  \n",
        "A bank offers real estate loans based on the following criteria:  \n",
        "If the applicant earns more than ₹1,00,000 per month and has no existing loans, they are\n",
        "eligible for a 90% loan-to-value (LTV) ratio.  \n",
        "If the applicant earns between ₹50,000 and ₹1,00,000, or has existing loans, they are eligible\n",
        "for a 70% LTV ratio.  \n",
        "Otherwise, they are eligible for a 50% LTV ratio.  \n",
        "Take the monthly income and loan status (\"yes\" or \"no\") as input, and display the eligible LTV\n",
        "ratio."
      ],
      "metadata": {
        "id": "QfJz0_9MKGQH"
      }
    },
    {
      "cell_type": "code",
      "source": [
        "ic = int(input(\"enter your income: \"))\n",
        "ls = input(\"have taken any loan? yes or no: \")\n",
        "if ic > 100000 and ls == \"no\" :\n",
        "  print(\"eligible for 90% LTV\")\n",
        "elif ic in range(50000 , 100001) :\n",
        "  if ls == \"yes\" :\n",
        "    print(\"eligible for 70% LTV\")\n",
        "else :\n",
        "  print(\"eligible for 50% LTV\")\n"
      ],
      "metadata": {
        "colab": {
          "base_uri": "https://localhost:8080/"
        },
        "id": "37Yr9rdDKP_F",
        "outputId": "e326008a-ad95-423d-9631-7e88eb07fff9"
      },
      "execution_count": null,
      "outputs": [
        {
          "name": "stdout",
          "output_type": "stream",
          "text": [
            "enter your income: 80000\n",
            "have taken any loan? yes or no: no\n"
          ]
        }
      ]
    }
  ]
}